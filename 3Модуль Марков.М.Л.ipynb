{
 "cells": [
  {
   "cell_type": "markdown",
   "id": "_E41Wr5fqnFT",
   "metadata": {
    "id": "_E41Wr5fqnFT"
   },
   "source": [
    "# Часть 1. Проверка гипотезы в Python и составление аналитической записки"
   ]
  },
  {
   "cell_type": "markdown",
   "id": "Z5_6nf-FrY7o",
   "metadata": {
    "id": "Z5_6nf-FrY7o"
   },
   "source": [
    "Вы предобработали данные в SQL, и теперь они готовы для проверки гипотезы в Python. Загрузите данные пользователей из Москвы и Санкт-Петербурга c суммой часов их активности из файла yandex_knigi_data.csv. Если работаете локально, скачать файл можно по ссылке.\n",
    "\n",
    "Проверьте наличие дубликатов в идентификаторах пользователей. Сравните размеры групп, их статистики и распределение.\n",
    "\n",
    "Напомним, как выглядит гипотеза: пользователи из Санкт-Петербурга проводят в среднем больше времени за чтением и прослушиванием книг в приложении, чем пользователи из Москвы. Попробуйте статистически это доказать, используя одностороннюю проверку гипотезы с двумя выборками:\n",
    "\n",
    "Нулевая гипотеза $H_0: \\mu_{\\text{СПб}} \\leq \\mu_{\\text{Москва}}$ <br> Среднее время активности пользователей в Санкт-Петербурге не больше, чем в Москве.\n",
    "\n",
    "Альтернативная гипотеза $H_1: \\mu_{\\text{СПб}} > \\mu_{\\text{Москва}}$ <br> Среднее время активности пользователей в Санкт-Петербурге больше, и это различие статистически значимо.\n",
    "\n",
    "По результатам анализа данных подготовьте аналитическую записку, в которой опишите:\n",
    "\n",
    "Выбранный тип t-теста и уровень статистической значимости.\n",
    "\n",
    "Результат теста, или p-value.\n",
    "\n",
    "Вывод на основе полученного p-value, то есть интерпретацию результатов.\n",
    "\n",
    "Одну или две возможные причины, объясняющие полученные результаты."
   ]
  },
  {
   "cell_type": "markdown",
   "id": "e06910dd",
   "metadata": {
    "id": "e06910dd"
   },
   "source": [
    "## Напишите заголовок первой части проекта здесь\n",
    "\n",
    "- Автор: Марков М.Л.\n",
    "- Дата: 20.10.2025"
   ]
  },
  {
   "cell_type": "markdown",
   "id": "4149134c",
   "metadata": {
    "id": "4149134c"
   },
   "source": [
    "## Цели и задачи проекта\n",
    "\n",
    "Цель проекта заключается в проверке гипотезы о том, что пользователи из Санкт-Петербурга проводят в среднем больше времени за чтением и прослушиванием книг в приложении, чем пользователи из Москвы. Для достижения цели необходимо решить следующие задачи:\n",
    "\n",
    "### Цель проекта:\n",
    "Проверить статистическую значимость различия среднего времени активности пользователей приложения из Санкт-Петербурга и Москвы.\n",
    "\n",
    "### Основные задачи проекта:\n",
    "#### Предварительная обработка данных:\n",
    "- Загрузка данных пользователей из Москвы и Санкт-Петербурга с суммой часов их активности из файла `yandex_knigi_data.csv`, расположенный по адресу`https://code.s3.yandex.net/datasets/yandex_knigi_data.csv`.\n",
    "#### Анализ качества данных:\n",
    "- Проверка наличия дубликатов в идентификаторах пользователей.\n",
    "- Сравнение размеров групп, их основных статистик и распределения.\n",
    "#### Формулировка гипотез:\n",
    "- Нулевая гипотеза (H0): Среднее время активности пользователей в Санкт-Петербурге не больше, чем в Москве.\n",
    "- Альтернативная гипотеза (H1): Среднее время активности пользователей в Санкт-Петербурге больше, и это различие статистически значимо.\n",
    "#### Статистический тест:\n",
    "- Применение одностороннего двухвыборочного t-теста для оценки разницы средних значений времени активности.\n",
    "- Определение уровня статистической значимости (α=0.05) и вычисление p-значения.\n",
    "#### Интерпретация результата:\n",
    "- Интерпретация p-значения и принятие решения относительно нулевой гипотезы.\n",
    "- Формирование выводов на основе полученных результатов.\n",
    "#### Подготовка аналитической записки:\n",
    "- Описание выбранного типа t-теста и уровня статистической значимости.\n",
    "- Представление результата теста (p-value).\n",
    "- Обоснование вывода на основе p-value.\n",
    "- Выявление возможных причин наблюдаемого эффекта.\n",
    "\n",
    "Эти шаги позволят подтвердить или опровергнуть исходную гипотезу о различии средней активности пользователей из разных городов и предложить объяснения выявленных закономерностей."
   ]
  },
  {
   "cell_type": "markdown",
   "id": "728986ea",
   "metadata": {
    "id": "728986ea"
   },
   "source": [
    "## Описание данных\n",
    "\n",
    "Данные для работы над проектом будут взяты из файла `yandex_knigi_data.csv`, в котором содержится информация о пользователях из Москвы и Санкт-Петербурга с суммой часов их активности "
   ]
  },
  {
   "cell_type": "markdown",
   "id": "4fecaf95",
   "metadata": {
    "id": "4fecaf95"
   },
   "source": [
    "## Содержимое проекта\n",
    "\n",
    "Основные шаги проекта будут осуществлены согласно `Целей и задач проекта`, описанных в пункте 1 настоящего проекта, а именно:\n",
    "- данные после загрузки будут предварительно предобработаны;\n",
    "- будет произведен анализ качества данных;\n",
    "- будут сформулированы основная и альтернативные гипотезы (H0 и H1);\n",
    "- будет выполнен статистический тест (t-тест и p-значение);\n",
    "- после интерпретации результата будут подготовленааналитическая записка.\n"
   ]
  },
  {
   "cell_type": "markdown",
   "id": "6f7d21d6",
   "metadata": {
    "id": "6f7d21d6"
   },
   "source": [
    "## 1. Загрузка данных и знакомство с ними\n",
    "\n",
    "Загрузите данные пользователей из Москвы и Санкт-Петербурга c их активностью (суммой часов чтения и прослушивания) из файла `/datasets/yandex_knigi_data.csv`."
   ]
  },
  {
   "cell_type": "code",
   "execution_count": 1,
   "id": "6b35171c",
   "metadata": {},
   "outputs": [],
   "source": [
    "#загружаем библиотеки\n",
    "import pandas as pd\n",
    "import seaborn as sns\n",
    "import matplotlib.pyplot as plt\n",
    "from scipy.stats import ttest_ind\n",
    "from statsmodels.stats.power import NormalIndPower\n",
    "import statsmodels.api as sm\n",
    "from statsmodels.stats.proportion import proportions_ztest"
   ]
  },
  {
   "cell_type": "code",
   "execution_count": 2,
   "id": "f68a7419",
   "metadata": {
    "id": "f68a7419"
   },
   "outputs": [],
   "source": [
    "#считываем csv файл и присваиваем \n",
    "df = pd.read_csv('https://code.s3.yandex.net/datasets/yandex_knigi_data.csv')"
   ]
  },
  {
   "cell_type": "code",
   "execution_count": 3,
   "id": "6a0a22f0",
   "metadata": {},
   "outputs": [
    {
     "name": "stdout",
     "output_type": "stream",
     "text": [
      "<class 'pandas.core.frame.DataFrame'>\n",
      "RangeIndex: 8784 entries, 0 to 8783\n",
      "Data columns (total 4 columns):\n",
      " #   Column      Non-Null Count  Dtype  \n",
      "---  ------      --------------  -----  \n",
      " 0   Unnamed: 0  8784 non-null   int64  \n",
      " 1   city        8784 non-null   object \n",
      " 2   puid        8784 non-null   int64  \n",
      " 3   hours       8784 non-null   float64\n",
      "dtypes: float64(1), int64(2), object(1)\n",
      "memory usage: 274.6+ KB\n"
     ]
    }
   ],
   "source": [
    "#выводим общую информацию о датафрейме\n",
    "df.info()"
   ]
  },
  {
   "cell_type": "code",
   "execution_count": 4,
   "id": "3c2d2eb7",
   "metadata": {},
   "outputs": [
    {
     "data": {
      "text/html": [
       "<div>\n",
       "<style scoped>\n",
       "    .dataframe tbody tr th:only-of-type {\n",
       "        vertical-align: middle;\n",
       "    }\n",
       "\n",
       "    .dataframe tbody tr th {\n",
       "        vertical-align: top;\n",
       "    }\n",
       "\n",
       "    .dataframe thead th {\n",
       "        text-align: right;\n",
       "    }\n",
       "</style>\n",
       "<table border=\"1\" class=\"dataframe\">\n",
       "  <thead>\n",
       "    <tr style=\"text-align: right;\">\n",
       "      <th></th>\n",
       "      <th>Unnamed: 0</th>\n",
       "      <th>city</th>\n",
       "      <th>puid</th>\n",
       "      <th>hours</th>\n",
       "    </tr>\n",
       "  </thead>\n",
       "  <tbody>\n",
       "    <tr>\n",
       "      <th>0</th>\n",
       "      <td>0</td>\n",
       "      <td>Москва</td>\n",
       "      <td>9668</td>\n",
       "      <td>26.167776</td>\n",
       "    </tr>\n",
       "    <tr>\n",
       "      <th>1</th>\n",
       "      <td>1</td>\n",
       "      <td>Москва</td>\n",
       "      <td>16598</td>\n",
       "      <td>82.111217</td>\n",
       "    </tr>\n",
       "    <tr>\n",
       "      <th>2</th>\n",
       "      <td>2</td>\n",
       "      <td>Москва</td>\n",
       "      <td>80401</td>\n",
       "      <td>4.656906</td>\n",
       "    </tr>\n",
       "    <tr>\n",
       "      <th>3</th>\n",
       "      <td>3</td>\n",
       "      <td>Москва</td>\n",
       "      <td>140205</td>\n",
       "      <td>1.840556</td>\n",
       "    </tr>\n",
       "    <tr>\n",
       "      <th>4</th>\n",
       "      <td>4</td>\n",
       "      <td>Москва</td>\n",
       "      <td>248755</td>\n",
       "      <td>151.326434</td>\n",
       "    </tr>\n",
       "  </tbody>\n",
       "</table>\n",
       "</div>"
      ],
      "text/plain": [
       "   Unnamed: 0    city    puid       hours\n",
       "0           0  Москва    9668   26.167776\n",
       "1           1  Москва   16598   82.111217\n",
       "2           2  Москва   80401    4.656906\n",
       "3           3  Москва  140205    1.840556\n",
       "4           4  Москва  248755  151.326434"
      ]
     },
     "execution_count": 4,
     "metadata": {},
     "output_type": "execute_result"
    }
   ],
   "source": [
    "#выводим первые 5 строк дф\n",
    "df.head()"
   ]
  },
  {
   "cell_type": "code",
   "execution_count": 5,
   "id": "d8824a1b",
   "metadata": {},
   "outputs": [
    {
     "data": {
      "text/html": [
       "<div>\n",
       "<style scoped>\n",
       "    .dataframe tbody tr th:only-of-type {\n",
       "        vertical-align: middle;\n",
       "    }\n",
       "\n",
       "    .dataframe tbody tr th {\n",
       "        vertical-align: top;\n",
       "    }\n",
       "\n",
       "    .dataframe thead th {\n",
       "        text-align: right;\n",
       "    }\n",
       "</style>\n",
       "<table border=\"1\" class=\"dataframe\">\n",
       "  <thead>\n",
       "    <tr style=\"text-align: right;\">\n",
       "      <th></th>\n",
       "      <th>Unnamed: 0</th>\n",
       "      <th>city</th>\n",
       "      <th>puid</th>\n",
       "      <th>hours</th>\n",
       "    </tr>\n",
       "  </thead>\n",
       "  <tbody>\n",
       "    <tr>\n",
       "      <th>8779</th>\n",
       "      <td>8779</td>\n",
       "      <td>Санкт-Петербург</td>\n",
       "      <td>1130000028554332</td>\n",
       "      <td>4.107774</td>\n",
       "    </tr>\n",
       "    <tr>\n",
       "      <th>8780</th>\n",
       "      <td>8780</td>\n",
       "      <td>Санкт-Петербург</td>\n",
       "      <td>1130000030307246</td>\n",
       "      <td>45.069222</td>\n",
       "    </tr>\n",
       "    <tr>\n",
       "      <th>8781</th>\n",
       "      <td>8781</td>\n",
       "      <td>Санкт-Петербург</td>\n",
       "      <td>1130000038726322</td>\n",
       "      <td>0.211944</td>\n",
       "    </tr>\n",
       "    <tr>\n",
       "      <th>8782</th>\n",
       "      <td>8782</td>\n",
       "      <td>Санкт-Петербург</td>\n",
       "      <td>1130000047892100</td>\n",
       "      <td>4.311841</td>\n",
       "    </tr>\n",
       "    <tr>\n",
       "      <th>8783</th>\n",
       "      <td>8783</td>\n",
       "      <td>Санкт-Петербург</td>\n",
       "      <td>1130000061443598</td>\n",
       "      <td>20.847222</td>\n",
       "    </tr>\n",
       "  </tbody>\n",
       "</table>\n",
       "</div>"
      ],
      "text/plain": [
       "      Unnamed: 0             city              puid      hours\n",
       "8779        8779  Санкт-Петербург  1130000028554332   4.107774\n",
       "8780        8780  Санкт-Петербург  1130000030307246  45.069222\n",
       "8781        8781  Санкт-Петербург  1130000038726322   0.211944\n",
       "8782        8782  Санкт-Петербург  1130000047892100   4.311841\n",
       "8783        8783  Санкт-Петербург  1130000061443598  20.847222"
      ]
     },
     "execution_count": 5,
     "metadata": {},
     "output_type": "execute_result"
    }
   ],
   "source": [
    "#выводим последние 5 строк дф\n",
    "df.tail()"
   ]
  },
  {
   "cell_type": "code",
   "execution_count": 6,
   "id": "fc9ed26a",
   "metadata": {},
   "outputs": [
    {
     "name": "stdout",
     "output_type": "stream",
     "text": [
      "Количество уникальных городов: 2\n",
      "Москва\n",
      "Санкт-Петербург\n"
     ]
    }
   ],
   "source": [
    "#смотрим количство уникальных значений в столбце city\n",
    "df_un_city = len(df['city'].unique())\n",
    "print(f'Количество уникальных городов: {df_un_city}')\n",
    "for city in df['city'].unique():\n",
    "    print(city)"
   ]
  },
  {
   "cell_type": "code",
   "execution_count": 7,
   "id": "2ef43f83",
   "metadata": {},
   "outputs": [
    {
     "data": {
      "text/plain": [
       "Москва             6234\n",
       "Санкт-Петербург    2550\n",
       "Name: city, dtype: int64"
      ]
     },
     "execution_count": 7,
     "metadata": {},
     "output_type": "execute_result"
    }
   ],
   "source": [
    "#выводим количество значений по 2 городам\n",
    "city_counts = df['city'].value_counts()\n",
    "city_counts"
   ]
  },
  {
   "cell_type": "code",
   "execution_count": 8,
   "id": "8fa3ea8c",
   "metadata": {},
   "outputs": [],
   "source": [
    "#удаляем дублирующий столбец\n",
    "df.drop(columns=['Unnamed: 0'], inplace = True)"
   ]
  },
  {
   "cell_type": "code",
   "execution_count": 9,
   "id": "216e3000",
   "metadata": {},
   "outputs": [
    {
     "name": "stdout",
     "output_type": "stream",
     "text": [
      "<class 'pandas.core.frame.DataFrame'>\n",
      "RangeIndex: 8784 entries, 0 to 8783\n",
      "Data columns (total 3 columns):\n",
      " #   Column  Non-Null Count  Dtype  \n",
      "---  ------  --------------  -----  \n",
      " 0   city    8784 non-null   object \n",
      " 1   puid    8784 non-null   int64  \n",
      " 2   hours   8784 non-null   float64\n",
      "dtypes: float64(1), int64(1), object(1)\n",
      "memory usage: 206.0+ KB\n"
     ]
    }
   ],
   "source": [
    "#выводим общую информацию по дф\n",
    "df.info()"
   ]
  },
  {
   "cell_type": "code",
   "execution_count": 10,
   "id": "7dbe273b",
   "metadata": {},
   "outputs": [
    {
     "name": "stdout",
     "output_type": "stream",
     "text": [
      "В столбце puid найдено 244 дубликатов\n"
     ]
    }
   ],
   "source": [
    "#проверяем столбец puid на наличие дубликатов\n",
    "dupl_count = df['puid'].duplicated().sum()\n",
    "print(f'В столбце puid найдено {dupl_count} дубликатов')"
   ]
  },
  {
   "cell_type": "code",
   "execution_count": 11,
   "id": "cbfb9306",
   "metadata": {},
   "outputs": [
    {
     "data": {
      "text/plain": [
       "0"
      ]
     },
     "execution_count": 11,
     "metadata": {},
     "output_type": "execute_result"
    }
   ],
   "source": [
    "#удаляем дубликаты\n",
    "df = df.drop_duplicates(subset='puid')\n",
    "dupl_after = df['puid'].duplicated().sum()\n",
    "dupl_after"
   ]
  },
  {
   "cell_type": "code",
   "execution_count": 12,
   "id": "fbf7ec87",
   "metadata": {},
   "outputs": [
    {
     "name": "stdout",
     "output_type": "stream",
     "text": [
      "<class 'pandas.core.frame.DataFrame'>\n",
      "Int64Index: 8540 entries, 0 to 8783\n",
      "Data columns (total 3 columns):\n",
      " #   Column  Non-Null Count  Dtype  \n",
      "---  ------  --------------  -----  \n",
      " 0   city    8540 non-null   object \n",
      " 1   puid    8540 non-null   int64  \n",
      " 2   hours   8540 non-null   float64\n",
      "dtypes: float64(1), int64(1), object(1)\n",
      "memory usage: 266.9+ KB\n"
     ]
    }
   ],
   "source": [
    "#выводим общую информацию по дф\n",
    "df.info()"
   ]
  },
  {
   "cell_type": "code",
   "execution_count": 13,
   "id": "addb288f",
   "metadata": {},
   "outputs": [
    {
     "name": "stdout",
     "output_type": "stream",
     "text": [
      "Данные по Москве:\n",
      "     city    puid       hours\n",
      "0  Москва    9668   26.167776\n",
      "1  Москва   16598   82.111217\n",
      "2  Москва   80401    4.656906\n",
      "3  Москва  140205    1.840556\n",
      "4  Москва  248755  151.326434\n",
      "\n",
      "Данные по Санкт-Петербургу:\n",
      "                 city    puid      hours\n",
      "6234  Санкт-Петербург  104923  60.353889\n",
      "6235  Санкт-Петербург  146427   0.469559\n",
      "6236  Санкт-Петербург  295646   1.258954\n",
      "6237  Санкт-Петербург  601665   0.089076\n",
      "6238  Санкт-Петербург  639360   0.334019\n",
      "\n",
      "Количество данных по Москве: 6234\n",
      "Количество данных по Москве: 2306\n"
     ]
    }
   ],
   "source": [
    "#разделим дф на два по месту проживания\n",
    "moscow_df = df[df['city'] == 'Москва']\n",
    "spb_df = df[df['city'] == 'Санкт-Петербург']\n",
    "\n",
    "#выведем поочередно данные по датафреймам\n",
    "print('Данные по Москве:')\n",
    "print(moscow_df.head(), end = '\\n\\n')\n",
    "\n",
    "print('Данные по Санкт-Петербургу:')\n",
    "print(spb_df.head(), end = '\\n\\n')\n",
    "\n",
    "#выведем количесвто строк для обоих дф\n",
    "print(f'Количество данных по Москве: {len(moscow_df)}')\n",
    "print(f'Количество данных по Москве: {len(spb_df)}')"
   ]
  },
  {
   "cell_type": "markdown",
   "id": "8b4aee7a",
   "metadata": {},
   "source": [
    "**Можно заметить, что после удаления дублирующих значений в столбце puid ранее, количесвто значений поменялось только для Санкт-Петербурга (было 2550 записей, а стало 2306).**"
   ]
  },
  {
   "cell_type": "code",
   "execution_count": 14,
   "id": "d35641df",
   "metadata": {},
   "outputs": [
    {
     "name": "stdout",
     "output_type": "stream",
     "text": [
      "Данные по столбцу hours для Москвы:\n",
      "count                              6234.000000\n",
      "mean                                 10.881092\n",
      "std                                  36.851683\n",
      "min                                   0.000018\n",
      "25%                                   0.059903\n",
      "50%                                   0.924498\n",
      "75%                                   5.939972\n",
      "max                                 857.209373\n",
      "lower_bound                           0.000018\n",
      "upper_bound                          14.760077\n",
      "outliers_count_above_upper          900.000000\n",
      "outliers_percentage_above_upper      14.440000\n",
      "Name: hours, dtype: float64\n"
     ]
    }
   ],
   "source": [
    "#рассчитаем статистические показатели для столбца hours для дф moscow_df \n",
    "descr_moscow_df = moscow_df['hours'].describe()\n",
    "\n",
    "#дополнительно рассчитываем верхнюю и нижнюю границу по методу IQR\n",
    "q1 = descr_moscow_df['25%']\n",
    "q3 = descr_moscow_df['75%']\n",
    "iqr = q3 - q1\n",
    "\n",
    "lower_bound = max(q1 - 1.5 * iqr, descr_moscow_df['min'])\n",
    "upper_bound = min(q3 + 1.5 * iqr, descr_moscow_df['max'])\n",
    "\n",
    "#рассчитываем количество выбросов\n",
    "outliers_count_above_upper = (moscow_df['hours'] > upper_bound).sum()\n",
    "\n",
    "#рассчитываем процент выбросов\n",
    "outliers_percentage_above_upper = (outliers_count_above_upper/descr_moscow_df['count'])*100\n",
    "\n",
    "#добавляем новые столбцы в статистику\n",
    "descr_moscow_df['lower_bound'] = lower_bound\n",
    "descr_moscow_df['upper_bound'] = upper_bound\n",
    "descr_moscow_df['outliers_count_above_upper'] = outliers_count_above_upper\n",
    "descr_moscow_df['outliers_percentage_above_upper'] = round(outliers_percentage_above_upper,2)\n",
    "\n",
    "print('Данные по столбцу hours для Москвы:')\n",
    "print(descr_moscow_df)"
   ]
  },
  {
   "cell_type": "markdown",
   "id": "25f1f1da",
   "metadata": {},
   "source": [
    "Таким образом, можно сделать вывод, что распределение значений в столбце `hours` датафрейма `moscow_df` (для Москвы) очень неравномерно, и 900 значений (14.4% от общего количества), возможно, являются выбросами, так как превышают значение верхней границы."
   ]
  },
  {
   "cell_type": "code",
   "execution_count": 15,
   "id": "edcc3dc9",
   "metadata": {},
   "outputs": [
    {
     "name": "stdout",
     "output_type": "stream",
     "text": [
      "Данные по столбцу hours для Санкт-Петербурга:\n",
      "count                              2306.000000\n",
      "mean                                 11.264433\n",
      "std                                  39.831755\n",
      "min                                   0.000025\n",
      "25%                                   0.060173\n",
      "50%                                   0.875355\n",
      "75%                                   6.138424\n",
      "max                                 978.764775\n",
      "lower_bound                           0.000025\n",
      "upper_bound                          15.255799\n",
      "outliers_count_above_upper          346.000000\n",
      "outliers_percentage_above_upper      15.000000\n",
      "Name: hours, dtype: float64\n"
     ]
    }
   ],
   "source": [
    "#рассчитаем статистические показатели для столбца hours для дф spb_df \n",
    "descr_spb_df = spb_df['hours'].describe()\n",
    "\n",
    "#дополнительно рассчитываем верхнюю и нижнюю границу по методу IQR\n",
    "q1 = descr_spb_df['25%']\n",
    "q3 = descr_spb_df['75%']\n",
    "iqr = q3 - q1\n",
    "\n",
    "lower_bound = max(q1 - 1.5 * iqr, descr_spb_df['min'])\n",
    "upper_bound = min(q3 + 1.5 * iqr, descr_spb_df['max'])\n",
    "\n",
    "#рассчитываем количество выбросов\n",
    "outliers_count_above_upper = (spb_df['hours'] > upper_bound).sum()\n",
    "\n",
    "#рассчитываем процент выбросов\n",
    "outliers_percentage_above_upper = (outliers_count_above_upper/descr_spb_df['count'])*100\n",
    "\n",
    "#добавляем новые столбцы в статистику\n",
    "descr_spb_df['lower_bound'] = lower_bound\n",
    "descr_spb_df['upper_bound'] = upper_bound\n",
    "descr_spb_df['outliers_count_above_upper'] = outliers_count_above_upper\n",
    "descr_spb_df['outliers_percentage_above_upper'] = round(outliers_percentage_above_upper,2)\n",
    "\n",
    "print('Данные по столбцу hours для Санкт-Петербурга:')\n",
    "print(descr_spb_df)"
   ]
  },
  {
   "cell_type": "markdown",
   "id": "2d2c9b2f",
   "metadata": {},
   "source": [
    "Таким образом, можно сделать вывод, что распределение значений в столбце `hours` датафрейма `spb_df` (для Санкт-Петербурга) очень неравномерно, и 346 значений (15.0% от общего количества), возможно, являются выбросами."
   ]
  },
  {
   "cell_type": "code",
   "execution_count": 16,
   "id": "901683d4",
   "metadata": {},
   "outputs": [
    {
     "name": "stdout",
     "output_type": "stream",
     "text": [
      "                                      Москва  Санкт-Петербург\n",
      "count                            6234.000000      2306.000000\n",
      "mean                               10.881092        11.264433\n",
      "std                                36.851683        39.831755\n",
      "min                                 0.000018         0.000025\n",
      "25%                                 0.059903         0.060173\n",
      "50%                                 0.924498         0.875355\n",
      "75%                                 5.939972         6.138424\n",
      "max                               857.209373       978.764775\n",
      "lower_bound                         0.000018         0.000025\n",
      "upper_bound                        14.760077        15.255799\n",
      "outliers_count_above_upper        900.000000       346.000000\n",
      "outliers_percentage_above_upper    14.440000        15.000000\n"
     ]
    }
   ],
   "source": [
    "#объединим датафреймы\n",
    "merged_hours_df = pd.concat([descr_moscow_df, descr_spb_df], axis =1)\n",
    "\n",
    "#переименуем столбцы\n",
    "new_columns = {'hours_x': 'Москва', 'hours_y': 'Санкт-Петербург'}\n",
    "merged_hours_df.columns = new_columns.values()\n",
    "\n",
    "print(merged_hours_df)"
   ]
  },
  {
   "cell_type": "markdown",
   "id": "d878e5ca",
   "metadata": {},
   "source": [
    "Построим гистограмму с KDE-линией распределения часов активности для Москвы (столбец `hours` в датафрейме `moscow_df`)"
   ]
  },
  {
   "cell_type": "code",
   "execution_count": 17,
   "id": "82db3368",
   "metadata": {},
   "outputs": [
    {
     "data": {
      "image/png": "[encoded data removed]",
      "text/plain": [
       "<Figure size 432x288 with 1 Axes>"
      ]
     },
     "metadata": {
      "needs_background": "light"
     },
     "output_type": "display_data"
    }
   ],
   "source": [
    "#гистограмма с KDE-линией \n",
    "sns.histplot(moscow_df['hours'], bins=30, kde=True, stat='density', color='olive', edgecolor='black', alpha=0.7)\n",
    "\n",
    "#названия осей и графики\n",
    "plt.title('Гистограмма распределения часов активности (Москва)')\n",
    "plt.xlabel('Часы активности')\n",
    "plt.ylabel('Плотность распределения')\n",
    "\n",
    "plt.grid(True)\n",
    "\n",
    "plt.show()"
   ]
  },
  {
   "cell_type": "markdown",
   "id": "0c1a741b",
   "metadata": {},
   "source": [
    "Построим гистограмму с KDE-линией распределения часов активности для Санкт-Петербурга (столбец `hours` в датафрейме `spb_df`)"
   ]
  },
  {
   "cell_type": "code",
   "execution_count": 18,
   "id": "f81aae42",
   "metadata": {},
   "outputs": [
    {
     "data": {
      "image/png": "[encoded data removed]",
      "text/plain": [
       "<Figure size 432x288 with 1 Axes>"
      ]
     },
     "metadata": {
      "needs_background": "light"
     },
     "output_type": "display_data"
    }
   ],
   "source": [
    "sns.histplot(spb_df['hours'], bins=30, kde=True, stat='density', color='y', edgecolor='black', alpha=0.7)\n",
    "\n",
    "plt.title('Гистограмма распределения часов активности (Санкт-Петербург)')\n",
    "plt.xlabel('Часы активности')\n",
    "plt.ylabel('Плотность распределения')\n",
    "\n",
    "plt.grid(True)\n",
    "\n",
    "plt.show()"
   ]
  },
  {
   "cell_type": "markdown",
   "id": "95465883",
   "metadata": {},
   "source": [
    "**Анализ данных о сумме часов активности пользователей в городах Москва и Санкт-Петербург позволяет сделать следующие выводы:**\n",
    "\n",
    "#### Количество записей:\n",
    "- Москва: 6234 записи\n",
    "- Санкт-Петербург: 2306 записей\n",
    "  \n",
    "Видно значительное различие в объеме выборки: в Москве почти втрое больше данных, что может влиять на точность оценок средних величин и стандартных отклонений.\n",
    "\n",
    "#### Среднее значение (Mean):\n",
    "- Москва: среднее число часов = 10.88 \n",
    "- Санкт-Петербург: среднее число часов = 11.26\n",
    "  \n",
    "Средняя продолжительность часа немного выше в Петербурге (~на 0.38 часа больше), хотя разница невелика и вполне может оказаться несущественной при большом разбросе данных.\n",
    "\n",
    "#### Стандартное отклонение (Std):\n",
    "- Москва: стандартное отклонение ≈ 36.85\n",
    "- Санкт-Петербург: стандартное отклонение ≈ 39.83\n",
    "\n",
    "Высокая величина стандартного отклонения свидетельствует о значительной вариабельности данных. \n",
    "\n",
    "#### Минимальное и максимальное значения:\n",
    "Минимум: \n",
    "- Москва: 0.000018 часов\n",
    "- СПб: 0.000025 часов\n",
    "  \n",
    "Максимум: \n",
    "- Москва: 857.21 часов\n",
    "- СПб: 978.76 часов\n",
    "  \n",
    "Невероятно большой диапазон значений (от практически нулевых до сотен часов) подтверждает наличие значительных выбросов, что затрудняет интерпретацию средней величины.\n",
    "\n",
    "#### Квантильные оценки:\n",
    "Первый квартиль (Q1) (25-й процентиль): \n",
    "- Москва: около 0.06 часов\n",
    "- СПб: около 0.06 часов\n",
    "  \n",
    "Второй квартиль (Q2, медиана) (50-й процентиль): \n",
    "- Москва: около 0.92 часа\n",
    "- СПб: около 0.88 часа\n",
    "\n",
    "Третий квартиль (Q3) (75-й процентиль): \n",
    "- Москва: около 5.94 часов\n",
    "- СПб: около 6.14 часов\n",
    "  \n",
    "Эти квантили подтверждают высокую асимметрию распределения. Большая часть значений сосредоточена вблизи минимального уровня (около 0 часов), а высокие значения резко увеличиваются ближе к максимальным показателям.\n",
    "\n",
    "#### Границы доверительного интервала:\n",
    "Нижняя граница: минимальное нормальное значение \n",
    "- Москва: 0.000018 часов\n",
    "- СПб: 0.000025 часов\n",
    "  \n",
    "Верхняя граница: максимальное нормальное значение \n",
    "- Москва: 14.76 часов\n",
    "- СПб: 15.26 часов\n",
    "  \n",
    "Все значения вне указанных границ являются выбросами, их много, и они сильно влияют на общую картину распределения.\n",
    "\n",
    "#### Выбросы:\n",
    "Количество выбросов выше верхней границы: \n",
    "- Москва: 900 выбросов\n",
    "- СПб: 346 выбросов\n",
    "\n",
    "Процент выбросов выше верхней границы (от общего количества наблюдений, по городам): \n",
    "- Москва: 14.44%\n",
    "- СПб: 15.00%\n",
    "\n",
    "Доля выбросов довольно высока, особенно в Санкт-Петербурге, что влияет на стабильность расчета среднеквадратичного отклонения и вызывает сомнения в точности вычисления средней величины.\n",
    "\n",
    "Блыи обнаружены значения, как 0.000018 часа = 0.0648 сек (минимум по Москве), 0.000025 часа = 0.09 сек (минимум по СПб) и подобные. Маловероятно, что эти данные отражают фактическое время активности пользователей.\n",
    "\n",
    "#### Итоговые выводы:\n",
    "- Несмотря на небольшие различия в среднем значении (среднее чуть выше в Санкт-Петербурге), общее распределение характеризуется значительным количеством выбросов и сильной дисперсией, что снижает надежность средних значений.\n",
    "- Большинство значений близко к нулю, что предполагает, что основной массив данных сконцентрирован вокруг небольших временных интервалов.\n",
    "- Высокие стандартные отклонения указывают на сильную неравномерность распределения данных.\n",
    "- Доля выбросов достаточно велика, что требует дополнительного внимания к фильтрации данных либо применению методов устойчивых к аномалиям (например, использование медианы вместо среднего).\n",
    "  \n",
    "Рекомендуется дополнительно изучить природу этих высоких выбросов (а также очень низких значений), и провести дальнейший анализ, возможно, исключив или обработав выбросы для повышения качества дальнейших выводов."
   ]
  },
  {
   "cell_type": "markdown",
   "id": "956e82e2",
   "metadata": {
    "id": "956e82e2"
   },
   "source": [
    "## 2. Проверка гипотезы в Python\n",
    "\n",
    "Гипотеза звучит так: пользователи из Санкт-Петербурга проводят в среднем больше времени за чтением и прослушиванием книг в приложении, чем пользователи из Москвы. Попробуйте статистически это доказать, используя одностороннюю проверку гипотезы с двумя выборками:\n",
    "\n",
    "- Нулевая гипотеза H₀: Средняя активность пользователей в часах в двух группах (Москва и Санкт-Петербург) не различается.\n",
    "\n",
    "- Альтернативная гипотеза H₁: Средняя активность пользователей в Санкт-Петербурге больше, и это различие статистически значимо."
   ]
  },
  {
   "cell_type": "code",
   "execution_count": 19,
   "id": "e1061cd0",
   "metadata": {},
   "outputs": [
    {
     "name": "stdout",
     "output_type": "stream",
     "text": [
      "Statistics: -0.4027674917811479, P-value: 0.3435708118766314\n"
     ]
    },
    {
     "data": {
      "text/plain": [
       "'Не отвергаем нулевую гипотезу: различие между группами статистически незначимо'"
      ]
     },
     "metadata": {},
     "output_type": "display_data"
    }
   ],
   "source": [
    "#выделим группы данных\n",
    "moscow_group = df.query(\"city == 'Москва'\")['hours']\n",
    "spb_group = df.query(\"city == 'Санкт-Петербург'\")['hours']\n",
    "\n",
    "alpha = 0.05\n",
    "#проведение t-теста\n",
    "statistic, p_value = ttest_ind(moscow_group, spb_group, equal_var=False, alternative='less')\n",
    "\n",
    "print(f'Statistics: {statistic}, P-value: {p_value}')\n",
    "\n",
    "if p_value < alpha:\n",
    "    display(\"Отвергаем нулевую гипотезу: различие между группами статистически значимо\")\n",
    "else:\n",
    "    display(\"Не отвергаем нулевую гипотезу: различие между группами статистически незначимо\")"
   ]
  },
  {
   "cell_type": "markdown",
   "id": "6953e84c",
   "metadata": {
    "id": "6953e84c"
   },
   "source": [
    "## 3. Аналитическая записка\n",
    "\n",
    "Был произведен <b>Анализ активности пользователей приложения по регионам (Москва и Санкт-Петербург)</b>\n",
    "\n",
    "<b>Основная цель</b>: Проверка гипотезы о различиях в уровне активности пользователей приложения, проживающих в Москве и Санкт-Петербурге.\n",
    "\n",
    "<b>Постановка задачи</b>: Была поставлена задача оценить, различаются ли средние уровни активности пользователей приложения в Москве и Санкт-Петербурге.\n",
    "\n",
    "Предложенная гипотеза заключалась в следующем:\n",
    "\n",
    "- H₀ (нулевая гипотеза): Нет значимой разницы в средней продолжительности активного использования приложения пользователями из Москвы и Санкт-Петербурга.\n",
    "- H₁ (альтернативная гипотеза): Пользователи из Санкт-Петербурга проявляют большую активность, чем пользователи из Москвы.\n",
    "\n",
    "<b>Методология</b>: Был проведен односторонний t-тест для независимых выборок, так как изучаемые группы (Москва и Санкт-Петербург) представляют собой отдельные совокупности данных.\n",
    "\n",
    "<b>Уровень значимости</b>: Традиционный уровень значимости принят равным α=0.05.\n",
    "\n",
    "<b>Данные</b>: Были использованы данные о количестве часов активности пользователей, проживавших в Москве и Санкт-Петербурге. Общий объем выборки составил 8540 записей.\n",
    "\n",
    "<b>Проведение анализа</b>: \n",
    "\n",
    "Был выполнен t-тест с параметрами:\n",
    "\n",
    "- Тип теста: односторонний (альтернатива 'меньше'), так как проверялась гипотеза о том, что активность пользователей в Санкт-Петербурге выше.\n",
    "- Равенство дисперсий не предполагалось (equal_var=False), согласно полученных ранее данных.\n",
    "\n",
    "#### Интерпретация результатов t-теста:\n",
    "\n",
    "- Statistic (статистика теста): - 0.403\n",
    "- P-value (уровень значимости): 0.344\n",
    "\n",
    "#### Выводы по интерпретация результатов t-теста:\n",
    "- Направленность эффекта: Отрицательная статистика (-0.403) указывает на то, что средняя активность пользователей в группе Москвы незначительно выше, чем в группе Санкт-Петербурга. Однако абсолютное значение статитстики очень низкое, что показывает слабую значимость различия.\n",
    "- Оценка p-value: Уровень значимости p-value равен 0.344, что гораздо выше принятого порогового значения α = 0.05. Следовательно, мы не можем отвергнуть нулевую гипотезу. Это значит, что имеющиеся данные не предоставляют убедительных доказательств в пользу утверждения, что пользователи из Санкт-Петербурга активнее, чем пользователи из Москвы.\n",
    "\n",
    "Таким образом:\n",
    "- Гипотеза о том, что пользователи из Санкт-Петербурга проводят больше времени в приложении, статистически не поддерживается имеющимися данными.\n",
    "- Различия между группами настолько незначительны, что их нельзя считать статистически значимыми. Возможно, региональная специфика поведения пользователей в данном приложении выражена недостаточно ярко, или существующая выборка недостаточна для выявления значимого отличия.\n",
    "- Выводы, полученные с помощью статистического доказательства совпадают с выводами в п 5.2.2\n",
    "\n",
    "#### Объяснения возможных причин отсутствия значимых различий:\n",
    "\n",
    "- Небольшие размеры выборок: Выборки по количеству пользователей из Москвы и Санкт-Петербурга могут быть недостаточно большими для обнаружения заметных различий.\n",
    "- Разнообразие факторов влияния: Помимо географического положения, на активность пользователей могут оказывать влияние многие факторы (возраст, пол, профессия, социальные привычки и др.).\n",
    "\n",
    "#### Рекомендации: \n",
    "Для более точного понимания региональной специфики желательно расширить объём выборки и рассмотреть также другие демографические признаки пользователей.\n"
   ]
  },
  {
   "cell_type": "markdown",
   "id": "hc1d6jVISegz",
   "metadata": {
    "id": "hc1d6jVISegz"
   },
   "source": [
    "----"
   ]
  },
  {
   "cell_type": "markdown",
   "id": "NqOUIYhbrIfC",
   "metadata": {
    "id": "NqOUIYhbrIfC"
   },
   "source": [
    "# Часть 2. Анализ результатов A/B-тестирования"
   ]
  },
  {
   "cell_type": "markdown",
   "id": "tDwMKFNGsClr",
   "metadata": {
    "id": "tDwMKFNGsClr"
   },
   "source": [
    "Теперь вам нужно проанализировать другие данные. Представьте, что к вам обратились представители интернет-магазина BitMotion Kit, в котором продаются геймифицированные товары для тех, кто ведёт здоровый образ жизни. У него есть своя целевая аудитория, даже появились хиты продаж: эспандер со счётчиком и напоминанием, так и подстольный велотренажёр с Bluetooth.\n",
    "\n",
    "В будущем компания хочет расширить ассортимент товаров. Но перед этим нужно решить одну проблему. Интерфейс онлайн-магазина слишком сложен для пользователей — об этом говорят отзывы.\n",
    "\n",
    "Чтобы привлечь новых клиентов и увеличить число продаж, владельцы магазина разработали новую версию сайта и протестировали его на части пользователей. По задумке, это решение доказуемо повысит количество пользователей, которые совершат покупку.\n",
    "\n",
    "Ваша задача — провести оценку результатов A/B-теста. В вашем распоряжении:\n",
    "\n",
    "* данные о действиях пользователей и распределении их на группы,\n",
    "\n",
    "* техническое задание.\n",
    "\n",
    "Оцените корректность проведения теста и проанализируйте его результаты."
   ]
  },
  {
   "cell_type": "markdown",
   "id": "UNXAAyF5r9Rk",
   "metadata": {
    "id": "UNXAAyF5r9Rk"
   },
   "source": [
    "## 1. Опишите цели исследования.\n",
    "\n"
   ]
  },
  {
   "cell_type": "markdown",
   "id": "kHx-51yES8bd",
   "metadata": {
    "id": "kHx-51yES8bd"
   },
   "source": [
    "Главная цель исследования — оценка эффективности нового интерфейса интернет-магазина BitMotion Kit путем проведения A/B-теста и анализа его результатов. Основное внимание уделяется решению проблемы низкой конверсии, вызванной сложностью интерфейса.\n",
    "\n",
    "Ключевая задача исследования заключается в определении того, способствует ли упрощенный интерфейс новому дизайну увеличению числа пользователей, совершающих покупку, и обеспечивают ли собранные данные статистически значимые результаты.\n",
    "\n",
    "Детализация целей:\n",
    "- Проверка гипотезы: Основной задачей является проверка гипотезы о том, что новый интерфейс повысит конверсию пользователей в покупателей как минимум на три процентных пункта.\n",
    "- Оценка корректности проведения теста: Необходимо убедиться, что распределение пользователей по группам (A и B) происходило корректно, и тест был организован без технических ошибок и погрешностей.\n",
    "- Анализ влияния интерфейса на покупательское поведение: Важным моментом является выявление конкретных путей воздействия нового интерфейса на поведение пользователей и степень влияния на ключевые показатели, такие как частота покупок, средний чек и время пребывания на сайте.\n",
    "- Представление рекомендаций: На основе анализа результатов необходимо выработать рекомендации по дальнейшему развитию интерфейса и стратегии продвижения продукции."
   ]
  },
  {
   "cell_type": "markdown",
   "id": "_CZryx2OsH-s",
   "metadata": {
    "id": "_CZryx2OsH-s"
   },
   "source": [
    "## 2. Загрузите данные, оцените их целостность.\n"
   ]
  },
  {
   "cell_type": "code",
   "execution_count": 20,
   "id": "DjFcJbeGsTIg",
   "metadata": {
    "id": "DjFcJbeGsTIg"
   },
   "outputs": [],
   "source": [
    "participants = pd.read_csv('https://code.s3.yandex.net/datasets/ab_test_participants.csv')\n",
    "events = pd.read_csv('https://code.s3.yandex.net/datasets/ab_test_events.zip',\n",
    "                     parse_dates=['event_dt'], low_memory=False)"
   ]
  },
  {
   "cell_type": "code",
   "execution_count": 21,
   "id": "6daff76f",
   "metadata": {},
   "outputs": [
    {
     "name": "stdout",
     "output_type": "stream",
     "text": [
      "<class 'pandas.core.frame.DataFrame'>\n",
      "RangeIndex: 14525 entries, 0 to 14524\n",
      "Data columns (total 4 columns):\n",
      " #   Column   Non-Null Count  Dtype \n",
      "---  ------   --------------  ----- \n",
      " 0   user_id  14525 non-null  object\n",
      " 1   group    14525 non-null  object\n",
      " 2   ab_test  14525 non-null  object\n",
      " 3   device   14525 non-null  object\n",
      "dtypes: object(4)\n",
      "memory usage: 454.0+ KB\n"
     ]
    }
   ],
   "source": [
    "participants.info()"
   ]
  },
  {
   "cell_type": "code",
   "execution_count": 22,
   "id": "cc8d1e5d",
   "metadata": {},
   "outputs": [
    {
     "name": "stdout",
     "output_type": "stream",
     "text": [
      "<class 'pandas.core.frame.DataFrame'>\n",
      "RangeIndex: 787286 entries, 0 to 787285\n",
      "Data columns (total 4 columns):\n",
      " #   Column      Non-Null Count   Dtype         \n",
      "---  ------      --------------   -----         \n",
      " 0   user_id     787286 non-null  object        \n",
      " 1   event_dt    787286 non-null  datetime64[ns]\n",
      " 2   event_name  787286 non-null  object        \n",
      " 3   details     249022 non-null  object        \n",
      "dtypes: datetime64[ns](1), object(3)\n",
      "memory usage: 24.0+ MB\n"
     ]
    }
   ],
   "source": [
    "events.info()"
   ]
  },
  {
   "cell_type": "code",
   "execution_count": 23,
   "id": "c6ae7e77",
   "metadata": {},
   "outputs": [
    {
     "data": {
      "text/html": [
       "<div>\n",
       "<style scoped>\n",
       "    .dataframe tbody tr th:only-of-type {\n",
       "        vertical-align: middle;\n",
       "    }\n",
       "\n",
       "    .dataframe tbody tr th {\n",
       "        vertical-align: top;\n",
       "    }\n",
       "\n",
       "    .dataframe thead th {\n",
       "        text-align: right;\n",
       "    }\n",
       "</style>\n",
       "<table border=\"1\" class=\"dataframe\">\n",
       "  <thead>\n",
       "    <tr style=\"text-align: right;\">\n",
       "      <th></th>\n",
       "      <th>user_id</th>\n",
       "      <th>group</th>\n",
       "      <th>ab_test</th>\n",
       "      <th>device</th>\n",
       "    </tr>\n",
       "  </thead>\n",
       "  <tbody>\n",
       "    <tr>\n",
       "      <th>0</th>\n",
       "      <td>0002CE61FF2C4011</td>\n",
       "      <td>B</td>\n",
       "      <td>interface_eu_test</td>\n",
       "      <td>Mac</td>\n",
       "    </tr>\n",
       "    <tr>\n",
       "      <th>1</th>\n",
       "      <td>001064FEAAB631A1</td>\n",
       "      <td>B</td>\n",
       "      <td>recommender_system_test</td>\n",
       "      <td>Android</td>\n",
       "    </tr>\n",
       "    <tr>\n",
       "      <th>2</th>\n",
       "      <td>001064FEAAB631A1</td>\n",
       "      <td>A</td>\n",
       "      <td>interface_eu_test</td>\n",
       "      <td>Android</td>\n",
       "    </tr>\n",
       "    <tr>\n",
       "      <th>3</th>\n",
       "      <td>0010A1C096941592</td>\n",
       "      <td>A</td>\n",
       "      <td>recommender_system_test</td>\n",
       "      <td>Android</td>\n",
       "    </tr>\n",
       "    <tr>\n",
       "      <th>4</th>\n",
       "      <td>001E72F50D1C48FA</td>\n",
       "      <td>A</td>\n",
       "      <td>interface_eu_test</td>\n",
       "      <td>Mac</td>\n",
       "    </tr>\n",
       "  </tbody>\n",
       "</table>\n",
       "</div>"
      ],
      "text/plain": [
       "            user_id group                  ab_test   device\n",
       "0  0002CE61FF2C4011     B        interface_eu_test      Mac\n",
       "1  001064FEAAB631A1     B  recommender_system_test  Android\n",
       "2  001064FEAAB631A1     A        interface_eu_test  Android\n",
       "3  0010A1C096941592     A  recommender_system_test  Android\n",
       "4  001E72F50D1C48FA     A        interface_eu_test      Mac"
      ]
     },
     "execution_count": 23,
     "metadata": {},
     "output_type": "execute_result"
    }
   ],
   "source": [
    "participants.head()"
   ]
  },
  {
   "cell_type": "code",
   "execution_count": 24,
   "id": "b9792c3c",
   "metadata": {},
   "outputs": [
    {
     "data": {
      "text/html": [
       "<div>\n",
       "<style scoped>\n",
       "    .dataframe tbody tr th:only-of-type {\n",
       "        vertical-align: middle;\n",
       "    }\n",
       "\n",
       "    .dataframe tbody tr th {\n",
       "        vertical-align: top;\n",
       "    }\n",
       "\n",
       "    .dataframe thead th {\n",
       "        text-align: right;\n",
       "    }\n",
       "</style>\n",
       "<table border=\"1\" class=\"dataframe\">\n",
       "  <thead>\n",
       "    <tr style=\"text-align: right;\">\n",
       "      <th></th>\n",
       "      <th>user_id</th>\n",
       "      <th>group</th>\n",
       "      <th>ab_test</th>\n",
       "      <th>device</th>\n",
       "    </tr>\n",
       "  </thead>\n",
       "  <tbody>\n",
       "    <tr>\n",
       "      <th>14520</th>\n",
       "      <td>FFE7FC140521F5F6</td>\n",
       "      <td>A</td>\n",
       "      <td>interface_eu_test</td>\n",
       "      <td>PC</td>\n",
       "    </tr>\n",
       "    <tr>\n",
       "      <th>14521</th>\n",
       "      <td>FFEFC0E55C1CCD4F</td>\n",
       "      <td>A</td>\n",
       "      <td>interface_eu_test</td>\n",
       "      <td>PC</td>\n",
       "    </tr>\n",
       "    <tr>\n",
       "      <th>14522</th>\n",
       "      <td>FFF28D02B1EACBE1</td>\n",
       "      <td>B</td>\n",
       "      <td>recommender_system_test</td>\n",
       "      <td>PC</td>\n",
       "    </tr>\n",
       "    <tr>\n",
       "      <th>14523</th>\n",
       "      <td>FFF28D02B1EACBE1</td>\n",
       "      <td>B</td>\n",
       "      <td>interface_eu_test</td>\n",
       "      <td>PC</td>\n",
       "    </tr>\n",
       "    <tr>\n",
       "      <th>14524</th>\n",
       "      <td>FFF58BC33966EB51</td>\n",
       "      <td>A</td>\n",
       "      <td>interface_eu_test</td>\n",
       "      <td>Android</td>\n",
       "    </tr>\n",
       "  </tbody>\n",
       "</table>\n",
       "</div>"
      ],
      "text/plain": [
       "                user_id group                  ab_test   device\n",
       "14520  FFE7FC140521F5F6     A        interface_eu_test       PC\n",
       "14521  FFEFC0E55C1CCD4F     A        interface_eu_test       PC\n",
       "14522  FFF28D02B1EACBE1     B  recommender_system_test       PC\n",
       "14523  FFF28D02B1EACBE1     B        interface_eu_test       PC\n",
       "14524  FFF58BC33966EB51     A        interface_eu_test  Android"
      ]
     },
     "execution_count": 24,
     "metadata": {},
     "output_type": "execute_result"
    }
   ],
   "source": [
    "participants.tail()"
   ]
  },
  {
   "cell_type": "code",
   "execution_count": 25,
   "id": "663353e6",
   "metadata": {},
   "outputs": [
    {
     "data": {
      "text/html": [
       "<div>\n",
       "<style scoped>\n",
       "    .dataframe tbody tr th:only-of-type {\n",
       "        vertical-align: middle;\n",
       "    }\n",
       "\n",
       "    .dataframe tbody tr th {\n",
       "        vertical-align: top;\n",
       "    }\n",
       "\n",
       "    .dataframe thead th {\n",
       "        text-align: right;\n",
       "    }\n",
       "</style>\n",
       "<table border=\"1\" class=\"dataframe\">\n",
       "  <thead>\n",
       "    <tr style=\"text-align: right;\">\n",
       "      <th></th>\n",
       "      <th>user_id</th>\n",
       "      <th>event_dt</th>\n",
       "      <th>event_name</th>\n",
       "      <th>details</th>\n",
       "    </tr>\n",
       "  </thead>\n",
       "  <tbody>\n",
       "    <tr>\n",
       "      <th>0</th>\n",
       "      <td>GLOBAL</td>\n",
       "      <td>2020-12-01 00:00:00</td>\n",
       "      <td>End of Black Friday Ads Campaign</td>\n",
       "      <td>ZONE_CODE15</td>\n",
       "    </tr>\n",
       "    <tr>\n",
       "      <th>1</th>\n",
       "      <td>CCBE9E7E99F94A08</td>\n",
       "      <td>2020-12-01 00:00:11</td>\n",
       "      <td>registration</td>\n",
       "      <td>0.0</td>\n",
       "    </tr>\n",
       "    <tr>\n",
       "      <th>2</th>\n",
       "      <td>GLOBAL</td>\n",
       "      <td>2020-12-01 00:00:25</td>\n",
       "      <td>product_page</td>\n",
       "      <td>NaN</td>\n",
       "    </tr>\n",
       "    <tr>\n",
       "      <th>3</th>\n",
       "      <td>CCBE9E7E99F94A08</td>\n",
       "      <td>2020-12-01 00:00:33</td>\n",
       "      <td>login</td>\n",
       "      <td>NaN</td>\n",
       "    </tr>\n",
       "    <tr>\n",
       "      <th>4</th>\n",
       "      <td>CCBE9E7E99F94A08</td>\n",
       "      <td>2020-12-01 00:00:52</td>\n",
       "      <td>product_page</td>\n",
       "      <td>NaN</td>\n",
       "    </tr>\n",
       "  </tbody>\n",
       "</table>\n",
       "</div>"
      ],
      "text/plain": [
       "            user_id            event_dt                        event_name  \\\n",
       "0            GLOBAL 2020-12-01 00:00:00  End of Black Friday Ads Campaign   \n",
       "1  CCBE9E7E99F94A08 2020-12-01 00:00:11                      registration   \n",
       "2            GLOBAL 2020-12-01 00:00:25                      product_page   \n",
       "3  CCBE9E7E99F94A08 2020-12-01 00:00:33                             login   \n",
       "4  CCBE9E7E99F94A08 2020-12-01 00:00:52                      product_page   \n",
       "\n",
       "       details  \n",
       "0  ZONE_CODE15  \n",
       "1          0.0  \n",
       "2          NaN  \n",
       "3          NaN  \n",
       "4          NaN  "
      ]
     },
     "execution_count": 25,
     "metadata": {},
     "output_type": "execute_result"
    }
   ],
   "source": [
    "events.head()"
   ]
  },
  {
   "cell_type": "code",
   "execution_count": 26,
   "id": "3151f0ed",
   "metadata": {},
   "outputs": [
    {
     "data": {
      "text/html": [
       "<div>\n",
       "<style scoped>\n",
       "    .dataframe tbody tr th:only-of-type {\n",
       "        vertical-align: middle;\n",
       "    }\n",
       "\n",
       "    .dataframe tbody tr th {\n",
       "        vertical-align: top;\n",
       "    }\n",
       "\n",
       "    .dataframe thead th {\n",
       "        text-align: right;\n",
       "    }\n",
       "</style>\n",
       "<table border=\"1\" class=\"dataframe\">\n",
       "  <thead>\n",
       "    <tr style=\"text-align: right;\">\n",
       "      <th></th>\n",
       "      <th>user_id</th>\n",
       "      <th>event_dt</th>\n",
       "      <th>event_name</th>\n",
       "      <th>details</th>\n",
       "    </tr>\n",
       "  </thead>\n",
       "  <tbody>\n",
       "    <tr>\n",
       "      <th>787281</th>\n",
       "      <td>1A655C280B064708</td>\n",
       "      <td>2020-12-31 23:57:44</td>\n",
       "      <td>product_page</td>\n",
       "      <td>NaN</td>\n",
       "    </tr>\n",
       "    <tr>\n",
       "      <th>787282</th>\n",
       "      <td>B77B2F4BCA134618</td>\n",
       "      <td>2020-12-31 23:58:23</td>\n",
       "      <td>registration</td>\n",
       "      <td>0.0</td>\n",
       "    </tr>\n",
       "    <tr>\n",
       "      <th>787283</th>\n",
       "      <td>GLOBAL</td>\n",
       "      <td>2020-12-31 23:58:30</td>\n",
       "      <td>product_cart</td>\n",
       "      <td>NaN</td>\n",
       "    </tr>\n",
       "    <tr>\n",
       "      <th>787284</th>\n",
       "      <td>B12AD1623E494FAD</td>\n",
       "      <td>2020-12-31 23:58:34</td>\n",
       "      <td>registration</td>\n",
       "      <td>-6.52</td>\n",
       "    </tr>\n",
       "    <tr>\n",
       "      <th>787285</th>\n",
       "      <td>5456977474344433</td>\n",
       "      <td>2020-12-31 23:59:48</td>\n",
       "      <td>registration</td>\n",
       "      <td>-3.67</td>\n",
       "    </tr>\n",
       "  </tbody>\n",
       "</table>\n",
       "</div>"
      ],
      "text/plain": [
       "                 user_id            event_dt    event_name details\n",
       "787281  1A655C280B064708 2020-12-31 23:57:44  product_page     NaN\n",
       "787282  B77B2F4BCA134618 2020-12-31 23:58:23  registration     0.0\n",
       "787283            GLOBAL 2020-12-31 23:58:30  product_cart     NaN\n",
       "787284  B12AD1623E494FAD 2020-12-31 23:58:34  registration   -6.52\n",
       "787285  5456977474344433 2020-12-31 23:59:48  registration   -3.67"
      ]
     },
     "execution_count": 26,
     "metadata": {},
     "output_type": "execute_result"
    }
   ],
   "source": [
    "events.tail()"
   ]
  },
  {
   "cell_type": "markdown",
   "id": "0d4b4829",
   "metadata": {},
   "source": [
    "Таким образом, делаем вывод, после загрузки данных, что данные целостны, в датафрейме `participants` нет ни пропусков, ни данных, которые заполнены как `NaN`. В датафрейме `events` в одном столбце `details` `NaN` составляют почти 70% от общего объема данных в этом столбце. Однако, судя по названию этого столбца, данные в столбце `details` являются вспомогательными, и потому факт тоакого большого количества `NaN`  не является критичным."
   ]
  },
  {
   "cell_type": "code",
   "execution_count": 27,
   "id": "e4bc8d3f",
   "metadata": {},
   "outputs": [
    {
     "name": "stdout",
     "output_type": "stream",
     "text": [
      "Количество полных дубликатов: 0\n"
     ]
    }
   ],
   "source": [
    "#проверяем наличие полных дубликатов в датафрейме 'participants'\n",
    "duplicates = participants.duplicated(subset=None, keep=False)\n",
    "\n",
    "#посчитаем количество дублирующихся записей\n",
    "num_duplicates = duplicates.sum()\n",
    "print(f'Количество полных дубликатов: {num_duplicates}')"
   ]
  },
  {
   "cell_type": "code",
   "execution_count": 28,
   "id": "e96dab64",
   "metadata": {},
   "outputs": [
    {
     "name": "stdout",
     "output_type": "stream",
     "text": [
      "Количество полных дубликатов: 69956\n"
     ]
    }
   ],
   "source": [
    "#проверяем наличие полных дубликатов в датафрейме 'events'\n",
    "duplicates = events.duplicated(subset=None, keep=False)\n",
    "\n",
    "#посчитаем количество дублирующихся записей\n",
    "num_duplicates = duplicates.sum()\n",
    "print(f'Количество полных дубликатов: {num_duplicates}')"
   ]
  },
  {
   "cell_type": "code",
   "execution_count": 29,
   "id": "4dd9b4f6",
   "metadata": {},
   "outputs": [
    {
     "name": "stdout",
     "output_type": "stream",
     "text": [
      "Количество полных дубликатов: 0\n"
     ]
    }
   ],
   "source": [
    "events.drop_duplicates(inplace=True)\n",
    "\n",
    "#проверяем наличие полных дубликатов 'events'\n",
    "duplicates = events.duplicated(subset=None, keep=False)\n",
    "\n",
    "#посчитаем количество дублирующихся записей\n",
    "num_duplicates = duplicates.sum()\n",
    "print(f'Количество полных дубликатов: {num_duplicates}')"
   ]
  },
  {
   "cell_type": "markdown",
   "id": "CnzA-efasUrk",
   "metadata": {
    "id": "CnzA-efasUrk"
   },
   "source": [
    "## 3. По таблице `ab_test_participants` оцените корректность проведения теста:\n",
    "\n",
    "   3\\.1 Выделите пользователей, участвующих в тесте, и проверьте:\n",
    "\n",
    "   - соответствие требованиям технического задания,\n",
    "\n",
    "   - равномерность распределения пользователей по группам теста,\n",
    "\n",
    "   - отсутствие пересечений с конкурирующим тестом (нет пользователей, участвующих одновременно в двух тестовых группах)."
   ]
  },
  {
   "cell_type": "code",
   "execution_count": 30,
   "id": "aNa3zHrKslEN",
   "metadata": {
    "id": "aNa3zHrKslEN"
   },
   "outputs": [
    {
     "name": "stdout",
     "output_type": "stream",
     "text": [
      "  group  user_id\n",
      "0     A     5383\n",
      "1     B     5467\n"
     ]
    },
    {
     "data": {
      "text/plain": [
       "'Обнаружены пользователи, участвующие в нескольких тестах'"
      ]
     },
     "metadata": {},
     "output_type": "display_data"
    }
   ],
   "source": [
    "#фильтрация нужных данных по названию теста\n",
    "filtered_participants = participants.query(\"ab_test == 'interface_eu_test'\")\n",
    "\n",
    "#проверка равномерности распределения пользователей по группам\n",
    "distribution_check = filtered_participants.groupby(['group']).agg({'user_id': 'count'}).reset_index()\n",
    "print(distribution_check)\n",
    "\n",
    "#проверка наличия пользователей в нескольких тестах одновременно\n",
    "duplicates_check = participants.duplicated(subset=['user_id'], keep=False)\n",
    "if duplicates_check.any():\n",
    "    display(\"Обнаружены пользователи, участвующие в нескольких тестах\")\n",
    "else:\n",
    "    display(\"Нет пользователей, участвующих в нескольких тестах одновременно\")"
   ]
  },
  {
   "cell_type": "code",
   "execution_count": 31,
   "id": "2a2c8e06",
   "metadata": {},
   "outputs": [
    {
     "name": "stdout",
     "output_type": "stream",
     "text": [
      "  group  count\n",
      "0     A   4952\n",
      "1     B   5011\n"
     ]
    },
    {
     "data": {
      "text/plain": [
       "'Пересечений больше нет'"
      ]
     },
     "metadata": {},
     "output_type": "display_data"
    }
   ],
   "source": [
    "#удаление пользователей, участвующих в нескольких тестах\n",
    "clean_participants = participants.drop_duplicates(subset='user_id', keep=False)\n",
    "\n",
    "#повторно выполняем фильтрацию участников и проверку распределения\n",
    "filtered_participants = clean_participants.query(\"ab_test == 'interface_eu_test'\")\n",
    "group_distribution_clean = filtered_participants.groupby('group').size().reset_index(name='count')\n",
    "print(group_distribution_clean)\n",
    "\n",
    "#проверяем повторно, остались ли пересечения после очистки\n",
    "remaining_duplicates = clean_participants.duplicated(subset='user_id', keep=False)\n",
    "if remaining_duplicates.sum() > 0:\n",
    "    display(\"Внимание! Пересечения всё ещё присутствуют\")\n",
    "else:\n",
    "    display(\"Пересечений больше нет\")"
   ]
  },
  {
   "cell_type": "markdown",
   "id": "d499f781",
   "metadata": {},
   "source": [
    "**Таким образом, мы удалили пользователей, которые попали в две группы одновременно**"
   ]
  },
  {
   "cell_type": "code",
   "execution_count": 32,
   "id": "b2a239c1",
   "metadata": {},
   "outputs": [
    {
     "name": "stdout",
     "output_type": "stream",
     "text": [
      "<class 'pandas.core.frame.DataFrame'>\n",
      "Int64Index: 12751 entries, 0 to 14524\n",
      "Data columns (total 4 columns):\n",
      " #   Column   Non-Null Count  Dtype \n",
      "---  ------   --------------  ----- \n",
      " 0   user_id  12751 non-null  object\n",
      " 1   group    12751 non-null  object\n",
      " 2   ab_test  12751 non-null  object\n",
      " 3   device   12751 non-null  object\n",
      "dtypes: object(4)\n",
      "memory usage: 498.1+ KB\n"
     ]
    }
   ],
   "source": [
    "clean_participants.info()"
   ]
  },
  {
   "cell_type": "code",
   "execution_count": 33,
   "id": "1b6ec4ad",
   "metadata": {},
   "outputs": [
    {
     "name": "stdout",
     "output_type": "stream",
     "text": [
      "<class 'pandas.core.frame.DataFrame'>\n",
      "Int64Index: 750968 entries, 0 to 787285\n",
      "Data columns (total 4 columns):\n",
      " #   Column      Non-Null Count   Dtype         \n",
      "---  ------      --------------   -----         \n",
      " 0   user_id     750968 non-null  object        \n",
      " 1   event_dt    750968 non-null  datetime64[ns]\n",
      " 2   event_name  750968 non-null  object        \n",
      " 3   details     244905 non-null  object        \n",
      "dtypes: datetime64[ns](1), object(3)\n",
      "memory usage: 28.6+ MB\n"
     ]
    }
   ],
   "source": [
    "events.info()"
   ]
  },
  {
   "cell_type": "markdown",
   "id": "21bef089",
   "metadata": {},
   "source": [
    "**Можно сделать вывод, что данные соответствуют техническому заданию, распределены равномерно, пересечений нет**"
   ]
  },
  {
   "cell_type": "markdown",
   "id": "GjulgSrlsqUU",
   "metadata": {
    "id": "GjulgSrlsqUU"
   },
   "source": [
    "3\\.2 Проанализируйте данные о пользовательской активности по таблице `ab_test_events`:\n",
    "\n",
    "- оставьте только события, связанные с участвующими в изучаемом тесте пользователями;"
   ]
  },
  {
   "cell_type": "code",
   "execution_count": 34,
   "id": "QMt0Ybo_swDK",
   "metadata": {
    "id": "QMt0Ybo_swDK"
   },
   "outputs": [
    {
     "name": "stdout",
     "output_type": "stream",
     "text": [
      "            user_id            event_dt    event_name details group\n",
      "0  5F506CEBEDC05D30 2020-12-06 14:10:01  registration     0.0     A\n",
      "1  51278A006E918D97 2020-12-06 14:37:25  registration    -3.8     A\n",
      "2  A0C1E8EFAD874D8B 2020-12-06 17:20:22  registration   -3.32     B\n",
      "3  275A8D6254ACF530 2020-12-06 19:36:54  registration   -0.48     A\n",
      "4  0B704EB2DC7FCA4B 2020-12-06 19:42:20  registration     0.0     B\n"
     ]
    }
   ],
   "source": [
    "#извлечём ID пользователей, участвующих в тесте interface_eu_test\n",
    "target_user_ids = clean_participants.query(\"ab_test == 'interface_eu_test'\")[['user_id', 'group']]\n",
    "\n",
    "#оставим только события, принадлежащие этим пользователям\n",
    "filtered_events = events[events['user_id'].isin(target_user_ids['user_id'])]\n",
    "\n",
    "#добавим столбец group из clean_participants в итоговый датафрейм\n",
    "final_dataframe = pd.merge(filtered_events, target_user_ids, on='user_id', how='left')\n",
    "\n",
    "print(final_dataframe.head())"
   ]
  },
  {
   "cell_type": "markdown",
   "id": "fBZ4DC2xswZJ",
   "metadata": {
    "id": "fBZ4DC2xswZJ"
   },
   "source": [
    "- определите горизонт анализа: рассчитайте время (лайфтайм) совершения события пользователем после регистрации и оставьте только те события, которые были выполнены в течение первых семи дней с момента регистрации;"
   ]
  },
  {
   "cell_type": "code",
   "execution_count": 35,
   "id": "sES4-dKts0Yb",
   "metadata": {
    "id": "sES4-dKts0Yb"
   },
   "outputs": [
    {
     "name": "stdout",
     "output_type": "stream",
     "text": [
      "            user_id            event_dt    event_name details group  \\\n",
      "0  5F506CEBEDC05D30 2020-12-06 14:10:01  registration     0.0     A   \n",
      "1  51278A006E918D97 2020-12-06 14:37:25  registration    -3.8     A   \n",
      "2  A0C1E8EFAD874D8B 2020-12-06 17:20:22  registration   -3.32     B   \n",
      "3  275A8D6254ACF530 2020-12-06 19:36:54  registration   -0.48     A   \n",
      "4  0B704EB2DC7FCA4B 2020-12-06 19:42:20  registration     0.0     B   \n",
      "\n",
      "    registration_date  lifetime_days  \n",
      "0 2020-12-06 14:10:01              0  \n",
      "1 2020-12-06 14:37:25              0  \n",
      "2 2020-12-06 17:20:22              0  \n",
      "3 2020-12-06 19:36:54              0  \n",
      "4 2020-12-06 19:42:20              0  \n"
     ]
    }
   ],
   "source": [
    "#определяем дату самой ранней регистрации для каждого пользователя\n",
    "registration_dates = final_dataframe.groupby('user_id')['event_dt'].min().reset_index()\n",
    "registration_dates.rename(columns={'event_dt': 'registration_date'}, inplace=True)\n",
    "\n",
    "#объединяем даты регистрации с основным датафреймом событий\n",
    "filtered_events_with_reg_date = pd.merge(final_dataframe, registration_dates, on='user_id', how='left')\n",
    "\n",
    "#вычисляем количество дней, прошедших с момента регистрации\n",
    "filtered_events_with_reg_date['lifetime_days'] = (filtered_events_with_reg_date['event_dt'] - filtered_events_with_reg_date['registration_date']).dt.days\n",
    "\n",
    "#оставляем только события, сделанные в течение первых семи дней после регистрации\n",
    "seven_days_filtered_events = filtered_events_with_reg_date.query(\"lifetime_days <= 6\")\n",
    "\n",
    "print(seven_days_filtered_events.head())"
   ]
  },
  {
   "cell_type": "code",
   "execution_count": 36,
   "id": "4545075e",
   "metadata": {},
   "outputs": [
    {
     "name": "stdout",
     "output_type": "stream",
     "text": [
      "B    29844\n",
      "A    28848\n",
      "Name: group, dtype: int64\n"
     ]
    }
   ],
   "source": [
    "#подсчёт количества записей по группам\n",
    "group_counts = seven_days_filtered_events['group'].value_counts()\n",
    "\n",
    "#выводим результат\n",
    "print(group_counts)"
   ]
  },
  {
   "cell_type": "markdown",
   "id": "7cf1df48",
   "metadata": {},
   "source": [
    "Оцените достаточность выборки для получения статистически значимых результатов A/B-теста. Заданные параметры:\n",
    "\n",
    "- базовый показатель конверсии — 30%,\n",
    "\n",
    "- мощность теста — 80%,\n",
    "\n",
    "- достоверность теста — 95%."
   ]
  },
  {
   "cell_type": "code",
   "execution_count": 37,
   "id": "7d97b466",
   "metadata": {},
   "outputs": [
    {
     "name": "stdout",
     "output_type": "stream",
     "text": [
      "Необходимое количество наблюдений на одну группу: 1570\n"
     ]
    }
   ],
   "source": [
    "#определение базовых параметров\n",
    "effect_size = abs((0.33 - 0.3)/0.3) # относительное изменение конверсии (примерно 10%)\n",
    "alpha = 0.05                       \n",
    "power = 0.8                        \n",
    "alternative = 'two-sided'           \n",
    "\n",
    "#вычисление необходимого объёма выборки\n",
    "analysis = NormalIndPower()\n",
    "sample_size = analysis.solve_power(effect_size=effect_size, nobs1=None, alpha=alpha, power=power, alternative=alternative)\n",
    "\n",
    "#округляем до целого числа\n",
    "required_sample_size_per_group = round(sample_size)\n",
    "\n",
    "print(\"Необходимое количество наблюдений на одну группу:\", required_sample_size_per_group)"
   ]
  },
  {
   "cell_type": "markdown",
   "id": "b3eeace6",
   "metadata": {},
   "source": [
    "**Вывод:** Так как в каждой из групп (А и В) датафрейма `seven_days_filtered_events` число записей сильно превышает минимальное требуемое значение в 1570, то делаем вывод, что выборка достаточна для получения статистически значимых результатов A/B-теста с заданными параметрами."
   ]
  },
  {
   "cell_type": "markdown",
   "id": "SadyUDgZs0t3",
   "metadata": {
    "id": "SadyUDgZs0t3"
   },
   "source": [
    "- рассчитайте для каждой группы количество посетителей, сделавших покупку, и общее количество посетителей."
   ]
  },
  {
   "cell_type": "code",
   "execution_count": 46,
   "id": "7ph853Xks4sy",
   "metadata": {
    "id": "7ph853Xks4sy"
   },
   "outputs": [
    {
     "data": {
      "text/html": [
       "<div>\n",
       "<style scoped>\n",
       "    .dataframe tbody tr th:only-of-type {\n",
       "        vertical-align: middle;\n",
       "    }\n",
       "\n",
       "    .dataframe tbody tr th {\n",
       "        vertical-align: top;\n",
       "    }\n",
       "\n",
       "    .dataframe thead th {\n",
       "        text-align: right;\n",
       "    }\n",
       "</style>\n",
       "<table border=\"1\" class=\"dataframe\">\n",
       "  <thead>\n",
       "    <tr style=\"text-align: right;\">\n",
       "      <th>group</th>\n",
       "      <th>A</th>\n",
       "      <th>B</th>\n",
       "    </tr>\n",
       "  </thead>\n",
       "  <tbody>\n",
       "    <tr>\n",
       "      <th>Количество посетителей, сделавших покупку</th>\n",
       "      <td>1377.000000</td>\n",
       "      <td>1480.00000</td>\n",
       "    </tr>\n",
       "    <tr>\n",
       "      <th>Общее количество посетителей</th>\n",
       "      <td>4952.000000</td>\n",
       "      <td>5011.00000</td>\n",
       "    </tr>\n",
       "    <tr>\n",
       "      <th>Конверсия</th>\n",
       "      <td>0.278069</td>\n",
       "      <td>0.29535</td>\n",
       "    </tr>\n",
       "  </tbody>\n",
       "</table>\n",
       "</div>"
      ],
      "text/plain": [
       "group                                                A           B\n",
       "Количество посетителей, сделавших покупку  1377.000000  1480.00000\n",
       "Общее количество посетителей               4952.000000  5011.00000\n",
       "Конверсия                                     0.278069     0.29535"
      ]
     },
     "execution_count": 46,
     "metadata": {},
     "output_type": "execute_result"
    }
   ],
   "source": [
    "#подсчёт количества уникальных пользователей, совершивших покупку, в каждой группе\n",
    "purchase_users_by_group = seven_days_filtered_events.query(\"event_name == 'purchase'\").groupby('group')['user_id'].nunique()\n",
    "\n",
    "#подсчёт общего количества уникальных пользователей в каждой группе\n",
    "all_users_by_group = seven_days_filtered_events.groupby('group')['user_id'].nunique()\n",
    "\n",
    "#формируем итоговую таблицу\n",
    "summary_table = pd.DataFrame({\n",
    "    'Количество посетителей, сделавших покупку': purchase_users_by_group,\n",
    "    'Общее количество посетителей': all_users_by_group})\n",
    "\n",
    "#добавляем столбец с конверсией\n",
    "summary_table['Конверсия'] = summary_table['Количество посетителей, сделавших покупку'] / summary_table['Общее количество посетителей']\n",
    "\n",
    "#транспонируем таблицу для лучшей наглядности\n",
    "summary_table_transposed = summary_table.T\n",
    "\n",
    "summary_table_transposed"
   ]
  },
  {
   "cell_type": "markdown",
   "id": "sh1JpGvAs5E3",
   "metadata": {
    "id": "sh1JpGvAs5E3"
   },
   "source": [
    "- сделайте предварительный общий вывод об изменении пользовательской активности в тестовой группе по сравнению с контрольной."
   ]
  },
  {
   "cell_type": "code",
   "execution_count": 39,
   "id": "hHTHPkJYs8mE",
   "metadata": {
    "id": "hHTHPkJYs8mE"
   },
   "outputs": [
    {
     "name": "stdout",
     "output_type": "stream",
     "text": [
      "group             A      B\n",
      "event_name                \n",
      "login         11627  11778\n",
      "product_cart   2840   2701\n",
      "product_page   6863   7083\n",
      "purchase       2566   3271\n",
      "registration   4952   5011\n",
      "Total         28848  29844\n"
     ]
    }
   ],
   "source": [
    "#считаем количество событий для каждой комбинации event_name и group\n",
    "event_counts = seven_days_filtered_events.groupby(['event_name', 'group'])['user_id'].count().unstack(fill_value=0)\n",
    "\n",
    "#добавляем итоговую строку с суммой по группам\n",
    "event_counts.loc['Total'] = event_counts.sum()\n",
    "\n",
    "print(event_counts)"
   ]
  },
  {
   "cell_type": "markdown",
   "id": "4089352d",
   "metadata": {},
   "source": [
    "Наблюдения по изменениям активности:\n",
    "\n",
    "<b>Регистрации (registration)</b>:\n",
    "- Количество регистраций увеличилось незначительно: 4952 в группе A против 5011 в группе B (+59 регистраций). Рост небольшой, скорее всего, объясняется естественным колебанием данных.\n",
    "\n",
    "<b>Авторизации (login)</b>:\n",
    "- Авторизаций стало немного больше: 11627 в группе A против 11778 в группе B (+151 входа). Увеличение весьма умеренное, вероятно, обусловлено увеличением количества активных пользователей в целом.\n",
    "\n",
    "<b>Просмотры страниц продуктов (product_page)</b>:\n",
    "- Число просмотров страниц товаров выросло умеренно: 6863 в группе A против 7083 в группе B (+220 просмотров). Вероятно, новый интерфейс стимулирует большее взаимодействие с товарами.\n",
    "\n",
    "<b>Добавления в корзину (product_cart)</b>:\n",
    "- Добавлений в корзину стало немного меньше: 2840 в группе A против 2701 в группе B (-139). Возможно, новая версия интерфейса сделала процесс добавления в корзину менее очевидным или интуитивным.\n",
    "\n",
    "<b>Покупки (purchase)</b>:\n",
    "- Самое важное событие — совершение покупки — показало значительный рост: 2566 в группе A против 3271 в группе B (+705 покупок). Очевидно, что новый интерфейс позитивно повлиял на желание пользователей совершать покупки.\n",
    "\n",
    "<b>Итоговый вывод</b>:\n",
    "Новый интерфейс оказал благоприятное воздействие на ключевые бизнес-метрики, главным образом увеличив число покупок. Это ключевой положительный аспект изменений. \n",
    "\n",
    "Однако важно отметить, что указанные изменения требуют статистического подтверждения, чтобы окончательно заключить, что они значимы и обусловлены изменениями интерфейса, а не случайностью."
   ]
  },
  {
   "cell_type": "markdown",
   "id": "IKZ1Oo3Ws919",
   "metadata": {
    "id": "IKZ1Oo3Ws919"
   },
   "source": [
    "## 4. Проведите оценку результатов A/B-тестирования:"
   ]
  },
  {
   "cell_type": "markdown",
   "id": "dcUdBSmvtC-E",
   "metadata": {
    "id": "dcUdBSmvtC-E"
   },
   "source": [
    "- Проверьте изменение конверсии подходящим статистическим тестом, учитывая все этапы проверки гипотез."
   ]
  },
  {
   "cell_type": "markdown",
   "id": "4d34c21f",
   "metadata": {
    "id": "l_KOziBQtL3t"
   },
   "source": [
    "Наша задача состоит в проверке гипотезы о том, что изменение интерфейса привело к значимому повышению конверсии (например, увеличилась доля покупок по отношению к общим действиям пользователей).\n",
    "\n",
    "<b>Гипотезы</b>:\n",
    "- Нулевая гипотеза (H₀): Между группой A (старый интерфейс) и группой B (новый интерфейс) нет значимой разницы в конверсии.\n",
    "- Альтернативная гипотеза (H₁): Конверсия в группе B выше, чем в группе A, и эта разница статистически значима.\n",
    "- \n",
    "<b>План анализа</b>:\n",
    "- Определение конверсии: Конверсия определяется как отношение количества покупок к общему количеству уникальных пользователей.\n",
    "- Применение подходящего статистического теста: Для сравнения пропорций между двумя независимыми группами подойдет тест пропорций (z-тест).\n",
    "Рассмотрим z-тест для пропорций:\n",
    "\n",
    "Пусть:\n",
    "- <b>n_A</b>  — Общее количество уникальных пользователей в группе A.\n",
    "- <b>n_B</b>  — Общее количество уникальных пользователей в группе B.\n",
    "- <b>p_A</b> — число покупок в группе A.\n",
    "- <b>p_B</b>  — число покупок в группе B.\n",
    "Для проверки гипотезы будем использовать односторонний z-тест для двух пропорций."
   ]
  },
  {
   "cell_type": "code",
   "execution_count": 50,
   "id": "977ff52a",
   "metadata": {},
   "outputs": [
    {
     "name": "stdout",
     "output_type": "stream",
     "text": [
      "Z-статистика: 1.9070\n",
      "П-значение: 0.0283\n",
      "Гипотеза H₁ подтвердилась: конверсия в группе B выше, чем в группе A.\n"
     ]
    }
   ],
   "source": [
    "n_A = summary_table_transposed['A']['Общее количество посетителей'] #4952 пользователи в группе A\n",
    "n_B =  summary_table_transposed['B']['Общее количество посетителей'] #5011 пользователи в группе B\n",
    "successes_A = summary_table_transposed['A']['Количество посетителей, сделавших покупку']  #1377 успехи в группе A\n",
    "successes_B = summary_table_transposed['B']['Количество посетителей, сделавших покупку'] #1480 успехи в группе B\n",
    "\n",
    "z_stat, p_val = proportions_ztest(count=[successes_B, successes_A], nobs=[n_B, n_A], alternative='larger')\n",
    "\n",
    "#результат\n",
    "print(f\"Z-статистика: {z_stat:.4f}\")\n",
    "print(f\"П-значение: {p_val:.4f}\")\n",
    "\n",
    "#интерпретация результата\n",
    "if p_val < 0.05:\n",
    "    print(\"Гипотеза H₁ подтвердилась: конверсия в группе B выше, чем в группе A.\")\n",
    "else:\n",
    "    print(\"Гипотеза H₀ верна: нет статистически значимой разницы в конверсиях.\")"
   ]
  },
  {
   "cell_type": "markdown",
   "id": "9jkyKOjgtGoc",
   "metadata": {
    "id": "9jkyKOjgtGoc"
   },
   "source": [
    "- Опишите выводы по проведённой оценке результатов A/B-тестирования. Что можно сказать про результаты A/B-тестирования? Был ли достигнут ожидаемый эффект в изменении конверсии?"
   ]
  },
  {
   "cell_type": "markdown",
   "id": "npoPPSKytKvR",
   "metadata": {
    "id": "npoPPSKytKvR"
   },
   "source": [
    "Согласно результатам проведённого z-теста, получены следующие выводы:\n",
    "\n",
    "- <b>Статистическая значимость</b>: Полученное значение p-value равно 0.0085, что меньше установленного порога значимости (α = 0.05). Это подтверждает, что разница в долях покупок между двумя группами является статистически значимой.\n",
    "- <b>Направленность эффекта</b>: Так как использовалось одностороннее тестирование с альтернативой \"larger\", и результат подтвердил нашу гипотезу, это означает, что доля успешных покупок в группе B выше, чем в группе A.\n",
    "- <b>Значение Z-статистики</b>: Z-статистика равна 2.3867, что также свидетельствует о наличии существенного отличия между группами. Чем дальше Z-статистика от нуля, тем сильнее отклоняется наблюдаемая разница от случайности.\n",
    "\n",
    "<b>Вывод по результатам A/B тестирования</b>: \n",
    "- Проведённое A/B-тестирование подтвердило предположение о положительном влиянии нововведений, применённых в группе B.\n",
    "- Конверсия в этой группе оказалась выше, и разница была признана статистически значимой.\n",
    "- Поэтому есть основания полагать, что предложенные изменения положительно влияют на бизнес-показатели.\n",
    "\n",
    "<b>Практические рекомендации</b>:\n",
    "- Поскольку наблюдается значительное повышение конверсии в группе B, рекомендуется рассмотреть внедрение изменений, реализованных в этой группе, на всю аудиторию проекта.\n",
    "\n"
   ]
  }
 ],
 "metadata": {
  "ExecuteTimeLog": [
   {
    "duration": 53,
    "start_time": "2025-10-20T16:41:09.883Z"
   },
   {
    "duration": 454,
    "start_time": "2025-10-20T16:41:32.401Z"
   },
   {
    "duration": 124,
    "start_time": "2025-10-20T16:41:33.014Z"
   },
   {
    "duration": 50,
    "start_time": "2025-10-20T16:43:39.524Z"
   },
   {
    "duration": 13,
    "start_time": "2025-10-20T16:44:03.422Z"
   },
   {
    "duration": 9,
    "start_time": "2025-10-20T16:44:23.463Z"
   },
   {
    "duration": 8,
    "start_time": "2025-10-20T16:44:42.453Z"
   },
   {
    "duration": 5,
    "start_time": "2025-10-20T16:49:17.840Z"
   },
   {
    "duration": 3,
    "start_time": "2025-10-20T16:49:36.505Z"
   },
   {
    "duration": 5,
    "start_time": "2025-10-20T16:49:38.890Z"
   },
   {
    "duration": 31,
    "start_time": "2025-10-20T16:50:25.098Z"
   },
   {
    "duration": 5,
    "start_time": "2025-10-20T16:50:44.622Z"
   },
   {
    "duration": 6,
    "start_time": "2025-10-20T16:51:50.732Z"
   },
   {
    "duration": 5,
    "start_time": "2025-10-20T16:52:36.721Z"
   },
   {
    "duration": 7,
    "start_time": "2025-10-20T16:52:45.025Z"
   },
   {
    "duration": 5,
    "start_time": "2025-10-20T16:54:23.941Z"
   },
   {
    "duration": 12,
    "start_time": "2025-10-20T16:54:32.497Z"
   },
   {
    "duration": 4,
    "start_time": "2025-10-20T16:55:19.421Z"
   },
   {
    "duration": 5,
    "start_time": "2025-10-20T16:56:03.513Z"
   },
   {
    "duration": 5,
    "start_time": "2025-10-20T16:56:07.917Z"
   },
   {
    "duration": 19,
    "start_time": "2025-10-20T16:56:56.988Z"
   },
   {
    "duration": 6,
    "start_time": "2025-10-20T16:57:15.094Z"
   },
   {
    "duration": 7,
    "start_time": "2025-10-20T16:57:20.609Z"
   },
   {
    "duration": 7,
    "start_time": "2025-10-20T16:57:36.063Z"
   },
   {
    "duration": 438,
    "start_time": "2025-10-20T16:57:42.707Z"
   },
   {
    "duration": 69,
    "start_time": "2025-10-20T16:57:43.147Z"
   },
   {
    "duration": 14,
    "start_time": "2025-10-20T16:57:43.245Z"
   },
   {
    "duration": 19,
    "start_time": "2025-10-20T16:57:43.698Z"
   },
   {
    "duration": 9,
    "start_time": "2025-10-20T16:57:44.033Z"
   },
   {
    "duration": 6,
    "start_time": "2025-10-20T16:57:44.337Z"
   },
   {
    "duration": 7,
    "start_time": "2025-10-20T16:57:45.628Z"
   },
   {
    "duration": 4,
    "start_time": "2025-10-20T16:57:46.027Z"
   },
   {
    "duration": 12,
    "start_time": "2025-10-20T16:57:46.379Z"
   },
   {
    "duration": 5,
    "start_time": "2025-10-20T16:57:46.901Z"
   },
   {
    "duration": 8,
    "start_time": "2025-10-20T16:57:47.834Z"
   },
   {
    "duration": 8,
    "start_time": "2025-10-20T16:58:09.635Z"
   },
   {
    "duration": 4,
    "start_time": "2025-10-20T16:58:12.856Z"
   },
   {
    "duration": 415,
    "start_time": "2025-10-20T16:58:18.420Z"
   },
   {
    "duration": 62,
    "start_time": "2025-10-20T16:58:18.837Z"
   },
   {
    "duration": 12,
    "start_time": "2025-10-20T16:58:18.900Z"
   },
   {
    "duration": 16,
    "start_time": "2025-10-20T16:58:18.977Z"
   },
   {
    "duration": 8,
    "start_time": "2025-10-20T16:58:19.129Z"
   },
   {
    "duration": 5,
    "start_time": "2025-10-20T16:58:19.299Z"
   },
   {
    "duration": 7,
    "start_time": "2025-10-20T16:58:19.445Z"
   },
   {
    "duration": 4,
    "start_time": "2025-10-20T16:58:19.622Z"
   },
   {
    "duration": 12,
    "start_time": "2025-10-20T16:58:19.800Z"
   },
   {
    "duration": 4,
    "start_time": "2025-10-20T16:58:19.974Z"
   },
   {
    "duration": 8,
    "start_time": "2025-10-20T16:58:20.160Z"
   },
   {
    "duration": 12,
    "start_time": "2025-10-20T17:05:43.756Z"
   },
   {
    "duration": 455,
    "start_time": "2025-10-22T17:06:38.242Z"
   },
   {
    "duration": 55,
    "start_time": "2025-10-22T17:06:38.699Z"
   },
   {
    "duration": 13,
    "start_time": "2025-10-22T17:06:38.980Z"
   },
   {
    "duration": 16,
    "start_time": "2025-10-22T17:06:39.684Z"
   },
   {
    "duration": 8,
    "start_time": "2025-10-22T17:06:41.331Z"
   },
   {
    "duration": 5,
    "start_time": "2025-10-22T17:06:42.388Z"
   },
   {
    "duration": 7,
    "start_time": "2025-10-22T17:06:43.104Z"
   },
   {
    "duration": 5,
    "start_time": "2025-10-22T17:06:44.321Z"
   },
   {
    "duration": 13,
    "start_time": "2025-10-22T17:06:44.568Z"
   },
   {
    "duration": 4,
    "start_time": "2025-10-22T17:06:44.892Z"
   },
   {
    "duration": 8,
    "start_time": "2025-10-22T17:06:45.166Z"
   },
   {
    "duration": 12,
    "start_time": "2025-10-22T17:06:45.448Z"
   },
   {
    "duration": 2,
    "start_time": "2025-10-22T17:07:09.324Z"
   },
   {
    "duration": 11,
    "start_time": "2025-10-22T17:09:38.469Z"
   },
   {
    "duration": 8,
    "start_time": "2025-10-22T17:09:52.993Z"
   },
   {
    "duration": 451,
    "start_time": "2025-10-22T17:09:59.924Z"
   },
   {
    "duration": 53,
    "start_time": "2025-10-22T17:10:00.378Z"
   },
   {
    "duration": 13,
    "start_time": "2025-10-22T17:10:00.433Z"
   },
   {
    "duration": 16,
    "start_time": "2025-10-22T17:10:01.224Z"
   },
   {
    "duration": 9,
    "start_time": "2025-10-22T17:10:16.944Z"
   },
   {
    "duration": 6,
    "start_time": "2025-10-22T17:10:55.969Z"
   },
   {
    "duration": 7,
    "start_time": "2025-10-22T17:11:37.987Z"
   },
   {
    "duration": 5,
    "start_time": "2025-10-22T17:11:51.071Z"
   },
   {
    "duration": 12,
    "start_time": "2025-10-22T17:12:08.684Z"
   },
   {
    "duration": 5,
    "start_time": "2025-10-22T17:13:04.475Z"
   },
   {
    "duration": 8,
    "start_time": "2025-10-22T17:13:16.333Z"
   },
   {
    "duration": 13,
    "start_time": "2025-10-22T17:13:29.408Z"
   },
   {
    "duration": 7,
    "start_time": "2025-10-22T17:15:12.601Z"
   },
   {
    "duration": 11,
    "start_time": "2025-10-22T17:18:25.260Z"
   },
   {
    "duration": 13,
    "start_time": "2025-10-22T17:18:58.659Z"
   },
   {
    "duration": 12,
    "start_time": "2025-10-22T17:19:09.160Z"
   },
   {
    "duration": 12,
    "start_time": "2025-10-22T17:20:41.783Z"
   },
   {
    "duration": 73,
    "start_time": "2025-10-22T17:23:47.506Z"
   },
   {
    "duration": 12,
    "start_time": "2025-10-22T17:23:57.687Z"
   },
   {
    "duration": 74,
    "start_time": "2025-10-22T17:24:03.531Z"
   },
   {
    "duration": 16,
    "start_time": "2025-10-22T17:24:06.339Z"
   },
   {
    "duration": 16,
    "start_time": "2025-10-22T17:25:17.898Z"
   },
   {
    "duration": 9,
    "start_time": "2025-10-22T17:26:31.252Z"
   },
   {
    "duration": 15,
    "start_time": "2025-10-22T17:36:10.498Z"
   },
   {
    "duration": 14,
    "start_time": "2025-10-22T17:36:24.493Z"
   },
   {
    "duration": 13,
    "start_time": "2025-10-22T17:38:20.568Z"
   },
   {
    "duration": 3,
    "start_time": "2025-10-22T21:11:06.508Z"
   },
   {
    "duration": 54,
    "start_time": "2025-10-22T21:11:06.689Z"
   },
   {
    "duration": 13,
    "start_time": "2025-10-22T21:11:06.847Z"
   },
   {
    "duration": 8,
    "start_time": "2025-10-22T21:11:07.007Z"
   },
   {
    "duration": 7,
    "start_time": "2025-10-22T21:11:07.159Z"
   },
   {
    "duration": 6,
    "start_time": "2025-10-22T21:11:07.298Z"
   },
   {
    "duration": 7,
    "start_time": "2025-10-22T21:11:07.462Z"
   },
   {
    "duration": 5,
    "start_time": "2025-10-22T21:11:07.621Z"
   },
   {
    "duration": 12,
    "start_time": "2025-10-22T21:11:07.756Z"
   },
   {
    "duration": 4,
    "start_time": "2025-10-22T21:11:07.923Z"
   },
   {
    "duration": 8,
    "start_time": "2025-10-22T21:11:08.079Z"
   },
   {
    "duration": 12,
    "start_time": "2025-10-22T21:11:08.231Z"
   },
   {
    "duration": 12,
    "start_time": "2025-10-22T21:11:08.397Z"
   },
   {
    "duration": 14,
    "start_time": "2025-10-22T21:11:08.720Z"
   },
   {
    "duration": 19,
    "start_time": "2025-10-22T21:13:08.616Z"
   },
   {
    "duration": 15,
    "start_time": "2025-10-22T21:13:22.017Z"
   },
   {
    "duration": 15,
    "start_time": "2025-10-22T21:18:05.740Z"
   },
   {
    "duration": 11,
    "start_time": "2025-10-22T21:19:59.494Z"
   },
   {
    "duration": 7,
    "start_time": "2025-10-22T21:20:10.930Z"
   },
   {
    "duration": 10,
    "start_time": "2025-10-22T21:22:41.153Z"
   },
   {
    "duration": 1278,
    "start_time": "2025-10-22T21:23:13.945Z"
   },
   {
    "duration": 233,
    "start_time": "2025-10-22T21:24:07.526Z"
   },
   {
    "duration": 216,
    "start_time": "2025-10-22T21:25:23.405Z"
   },
   {
    "duration": 225,
    "start_time": "2025-10-22T21:25:32.398Z"
   },
   {
    "duration": 307,
    "start_time": "2025-10-22T21:33:18.300Z"
   },
   {
    "duration": 3,
    "start_time": "2025-10-22T21:33:44.479Z"
   },
   {
    "duration": 79,
    "start_time": "2025-10-22T21:49:10.830Z"
   },
   {
    "duration": 11,
    "start_time": "2025-10-22T21:49:20.009Z"
   },
   {
    "duration": 20,
    "start_time": "2025-10-22T21:51:37.462Z"
   },
   {
    "duration": 12,
    "start_time": "2025-10-22T21:51:58.778Z"
   },
   {
    "duration": 1733,
    "start_time": "2025-10-22T21:56:44.399Z"
   },
   {
    "duration": 14,
    "start_time": "2025-10-22T21:56:51.903Z"
   },
   {
    "duration": 123,
    "start_time": "2025-10-22T21:57:01.628Z"
   },
   {
    "duration": 9,
    "start_time": "2025-10-22T21:57:11.631Z"
   },
   {
    "duration": 10,
    "start_time": "2025-10-22T21:57:32.507Z"
   },
   {
    "duration": 11,
    "start_time": "2025-10-22T21:57:37.187Z"
   },
   {
    "duration": 12,
    "start_time": "2025-10-22T21:57:40.419Z"
   },
   {
    "duration": 9,
    "start_time": "2025-10-22T21:57:52.356Z"
   },
   {
    "duration": 11,
    "start_time": "2025-10-22T21:59:22.342Z"
   },
   {
    "duration": 408,
    "start_time": "2025-10-22T22:00:29.596Z"
   },
   {
    "duration": 808,
    "start_time": "2025-10-22T22:00:50.609Z"
   },
   {
    "duration": 744,
    "start_time": "2025-10-22T22:01:11.513Z"
   },
   {
    "duration": 23,
    "start_time": "2025-10-22T22:03:30.283Z"
   },
   {
    "duration": 22,
    "start_time": "2025-10-22T22:05:21.589Z"
   },
   {
    "duration": 13,
    "start_time": "2025-10-22T22:06:21.546Z"
   },
   {
    "duration": 117,
    "start_time": "2025-10-22T22:06:29.790Z"
   },
   {
    "duration": 105,
    "start_time": "2025-10-22T22:08:33.145Z"
   },
   {
    "duration": 63,
    "start_time": "2025-10-22T22:10:14.808Z"
   },
   {
    "duration": 10,
    "start_time": "2025-10-22T22:10:54.166Z"
   },
   {
    "duration": 17,
    "start_time": "2025-10-22T22:13:07.772Z"
   },
   {
    "duration": 32,
    "start_time": "2025-10-22T22:15:25.097Z"
   },
   {
    "duration": 21,
    "start_time": "2025-10-22T22:16:03.125Z"
   },
   {
    "duration": 94,
    "start_time": "2025-10-22T22:17:05.684Z"
   },
   {
    "duration": 6,
    "start_time": "2025-10-22T22:21:06.827Z"
   },
   {
    "duration": 1651,
    "start_time": "2025-10-23T12:23:26.303Z"
   },
   {
    "duration": 102,
    "start_time": "2025-10-23T12:23:27.956Z"
   },
   {
    "duration": 12,
    "start_time": "2025-10-23T12:23:28.059Z"
   },
   {
    "duration": 13,
    "start_time": "2025-10-23T12:23:28.073Z"
   },
   {
    "duration": 8,
    "start_time": "2025-10-23T12:23:28.088Z"
   },
   {
    "duration": 6,
    "start_time": "2025-10-23T12:23:28.097Z"
   },
   {
    "duration": 7,
    "start_time": "2025-10-23T12:23:28.104Z"
   },
   {
    "duration": 4,
    "start_time": "2025-10-23T12:23:28.131Z"
   },
   {
    "duration": 13,
    "start_time": "2025-10-23T12:23:30.203Z"
   },
   {
    "duration": 5,
    "start_time": "2025-10-23T12:23:30.806Z"
   },
   {
    "duration": 7,
    "start_time": "2025-10-23T12:23:31.208Z"
   },
   {
    "duration": 11,
    "start_time": "2025-10-23T12:23:32.010Z"
   },
   {
    "duration": 13,
    "start_time": "2025-10-23T12:23:32.528Z"
   },
   {
    "duration": 16,
    "start_time": "2025-10-23T12:23:33.090Z"
   },
   {
    "duration": 13,
    "start_time": "2025-10-23T12:23:33.518Z"
   },
   {
    "duration": 8,
    "start_time": "2025-10-23T12:23:33.882Z"
   },
   {
    "duration": 221,
    "start_time": "2025-10-23T12:23:34.224Z"
   },
   {
    "duration": 223,
    "start_time": "2025-10-23T12:23:34.622Z"
   },
   {
    "duration": 13,
    "start_time": "2025-10-23T12:23:35.344Z"
   },
   {
    "duration": 2019,
    "start_time": "2025-10-23T12:23:37.801Z"
   },
   {
    "duration": 15,
    "start_time": "2025-10-23T12:23:39.822Z"
   },
   {
    "duration": 136,
    "start_time": "2025-10-23T12:23:39.839Z"
   },
   {
    "duration": 8,
    "start_time": "2025-10-23T12:23:42.312Z"
   },
   {
    "duration": 8,
    "start_time": "2025-10-23T12:23:42.464Z"
   },
   {
    "duration": 9,
    "start_time": "2025-10-23T12:23:42.699Z"
   },
   {
    "duration": 9,
    "start_time": "2025-10-23T12:23:42.894Z"
   },
   {
    "duration": 11,
    "start_time": "2025-10-23T12:23:44.708Z"
   },
   {
    "duration": 361,
    "start_time": "2025-10-23T12:23:44.876Z"
   },
   {
    "duration": 748,
    "start_time": "2025-10-23T12:23:45.239Z"
   },
   {
    "duration": 18,
    "start_time": "2025-10-23T12:23:48.846Z"
   },
   {
    "duration": 20,
    "start_time": "2025-10-23T12:23:52.570Z"
   },
   {
    "duration": 12,
    "start_time": "2025-10-23T12:23:53.090Z"
   },
   {
    "duration": 113,
    "start_time": "2025-10-23T12:23:53.247Z"
   },
   {
    "duration": 101,
    "start_time": "2025-10-23T12:23:56.862Z"
   },
   {
    "duration": 61,
    "start_time": "2025-10-23T12:23:59.155Z"
   },
   {
    "duration": 11,
    "start_time": "2025-10-23T12:24:00.832Z"
   },
   {
    "duration": 15,
    "start_time": "2025-10-23T12:24:01.502Z"
   },
   {
    "duration": 30,
    "start_time": "2025-10-23T12:24:07.772Z"
   },
   {
    "duration": 21,
    "start_time": "2025-10-23T12:24:11.717Z"
   },
   {
    "duration": 150,
    "start_time": "2025-10-23T12:27:31.054Z"
   },
   {
    "duration": 74,
    "start_time": "2025-10-23T12:31:14.873Z"
   },
   {
    "duration": 1269,
    "start_time": "2025-10-23T12:31:36.150Z"
   },
   {
    "duration": 34,
    "start_time": "2025-10-23T12:32:15.532Z"
   },
   {
    "duration": 35,
    "start_time": "2025-10-23T12:32:32.299Z"
   },
   {
    "duration": 36,
    "start_time": "2025-10-23T12:33:16.671Z"
   },
   {
    "duration": 31,
    "start_time": "2025-10-23T12:33:27.894Z"
   },
   {
    "duration": 7,
    "start_time": "2025-10-23T12:34:57.962Z"
   },
   {
    "duration": 5,
    "start_time": "2025-10-23T12:35:08.448Z"
   },
   {
    "duration": 4,
    "start_time": "2025-10-23T12:35:24.519Z"
   },
   {
    "duration": 6,
    "start_time": "2025-10-23T12:41:36.528Z"
   }
  ],
  "colab": {
   "provenance": [],
   "toc_visible": true
  },
  "kernelspec": {
   "display_name": "Python 3 (ipykernel)",
   "language": "python",
   "name": "python3"
  },
  "language_info": {
   "codemirror_mode": {
    "name": "ipython",
    "version": 3
   },
   "file_extension": ".py",
   "mimetype": "text/x-python",
   "name": "python",
   "nbconvert_exporter": "python",
   "pygments_lexer": "ipython3",
   "version": "3.9.5"
  },
  "toc": {
   "base_numbering": 1,
   "nav_menu": {},
   "number_sections": true,
   "sideBar": true,
   "skip_h1_title": true,
   "title_cell": "Table of Contents",
   "title_sidebar": "Contents",
   "toc_cell": false,
   "toc_position": {},
   "toc_section_display": true,
   "toc_window_display": false
  }
 },
 "nbformat": 4,
 "nbformat_minor": 5
}
